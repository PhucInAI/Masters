{
 "cells": [
  {
   "cell_type": "markdown",
   "metadata": {},
   "source": [
    "## operations on paired rdd"
   ]
  },
  {
   "cell_type": "code",
   "execution_count": 1,
   "metadata": {},
   "outputs": [
    {
     "data": {
      "application/vnd.jupyter.widget-view+json": {
       "model_id": "0497e60150714e13879d5043361e2d1c",
       "version_major": 2,
       "version_minor": 0
      },
      "text/plain": [
       "VBox()"
      ]
     },
     "metadata": {},
     "output_type": "display_data"
    },
    {
     "name": "stdout",
     "output_type": "stream",
     "text": [
      "Starting Spark application\n"
     ]
    },
    {
     "data": {
      "text/html": [
       "<table>\n",
       "<tr><th>ID</th><th>YARN Application ID</th><th>Kind</th><th>State</th><th>Spark UI</th><th>Driver log</th><th>Current session?</th></tr><tr><td>3</td><td>application_1659414087832_0004</td><td>pyspark</td><td>idle</td><td><a target=\"_blank\" href=\"http://ip-172-31-5-22.ec2.internal:20888/proxy/application_1659414087832_0004/\" class=\"emr-proxy-link\" emr-resource=\"j-1TYZ96XK9VD3C\n",
       "\" application-id=\"application_1659414087832_0004\">Link</a></td><td><a target=\"_blank\" href=\"http://ip-172-31-5-22.ec2.internal:8042/node/containerlogs/container_1659414087832_0004_01_000001/livy\" >Link</a></td><td>✔</td></tr></table>"
      ],
      "text/plain": [
       "<IPython.core.display.HTML object>"
      ]
     },
     "metadata": {},
     "output_type": "display_data"
    },
    {
     "data": {
      "application/vnd.jupyter.widget-view+json": {
       "model_id": "",
       "version_major": 2,
       "version_minor": 0
      },
      "text/plain": [
       "FloatProgress(value=0.0, bar_style='info', description='Progress:', layout=Layout(height='25px', width='50%'),…"
      ]
     },
     "metadata": {},
     "output_type": "display_data"
    },
    {
     "name": "stdout",
     "output_type": "stream",
     "text": [
      "SparkSession available as 'spark'.\n"
     ]
    },
    {
     "data": {
      "application/vnd.jupyter.widget-view+json": {
       "model_id": "",
       "version_major": 2,
       "version_minor": 0
      },
      "text/plain": [
       "FloatProgress(value=0.0, bar_style='info', description='Progress:', layout=Layout(height='25px', width='50%'),…"
      ]
     },
     "metadata": {},
     "output_type": "display_data"
    },
    {
     "name": "stdout",
     "output_type": "stream",
     "text": [
      "<SparkContext master=yarn appName=livy-session-3>"
     ]
    }
   ],
   "source": [
    "sc"
   ]
  },
  {
   "cell_type": "markdown",
   "metadata": {},
   "source": [
    "#### Creating paired RDDs"
   ]
  },
  {
   "cell_type": "code",
   "execution_count": 2,
   "metadata": {
    "scrolled": true
   },
   "outputs": [
    {
     "data": {
      "application/vnd.jupyter.widget-view+json": {
       "model_id": "1e40bbde776f42638eeeb11ccc5f7f27",
       "version_major": 2,
       "version_minor": 0
      },
      "text/plain": [
       "VBox()"
      ]
     },
     "metadata": {},
     "output_type": "display_data"
    },
    {
     "data": {
      "application/vnd.jupyter.widget-view+json": {
       "model_id": "",
       "version_major": 2,
       "version_minor": 0
      },
      "text/plain": [
       "FloatProgress(value=0.0, bar_style='info', description='Progress:', layout=Layout(height='25px', width='50%'),…"
      ]
     },
     "metadata": {},
     "output_type": "display_data"
    },
    {
     "name": "stdout",
     "output_type": "stream",
     "text": [
      "[('shampoo', 1), ('soap', 1), ('conditioner', 3), ('brush', 2), ('soap', 2), ('shampoo', 2), ('bread', 2), ('meat', 2), ('tshirt', 2), ('jeans', 2)]"
     ]
    }
   ],
   "source": [
    "# Creating paired RDDs-1\n",
    "# create a paired RDD using the parallelize() function as the base RDDs\n",
    "sales_in_a_supermarket = sc.parallelize([(\"shampoo\", 1), (\"soap\", 1), (\"conditioner\", 3), (\"brush\", 2), (\"soap\", 2), (\"shampoo\", 2), (\"bread\", 2), (\"meat\", 2), (\"tshirt\", 2), (\"jeans\", 2)])\n",
    "sales_in_a_supermarket.collect()\n"
   ]
  },
  {
   "cell_type": "code",
   "execution_count": 3,
   "metadata": {},
   "outputs": [
    {
     "data": {
      "application/vnd.jupyter.widget-view+json": {
       "model_id": "5a0d6f3dc02f4fada67166bb71b44cda",
       "version_major": 2,
       "version_minor": 0
      },
      "text/plain": [
       "VBox()"
      ]
     },
     "metadata": {},
     "output_type": "display_data"
    },
    {
     "data": {
      "application/vnd.jupyter.widget-view+json": {
       "model_id": "",
       "version_major": 2,
       "version_minor": 0
      },
      "text/plain": [
       "FloatProgress(value=0.0, bar_style='info', description='Progress:', layout=Layout(height='25px', width='50%'),…"
      ]
     },
     "metadata": {},
     "output_type": "display_data"
    },
    {
     "name": "stdout",
     "output_type": "stream",
     "text": [
      "[('soap', 1), ('shampoo', 1), ('conditioner', 1), ('meat', 1), ('bread', 1)]"
     ]
    }
   ],
   "source": [
    "# Creating paired RDDs-2\n",
    "# In order to work with paired RDDs it's required to return the RDD which is \n",
    "# composed of tuple\n",
    "rdd1 = sc.parallelize([\"soap\", \"shampoo\", \"conditioner\", \"meat\", \"bread\"])\n",
    "pairedrdd= rdd1.map(lambda x: (x,1))\n",
    "pairedrdd.collect()\n"
   ]
  },
  {
   "cell_type": "markdown",
   "metadata": {},
   "source": [
    "## Transformation functions on one paired RDD’s "
   ]
  },
  {
   "cell_type": "markdown",
   "metadata": {},
   "source": [
    "- **reduceByKey()**"
   ]
  },
  {
   "cell_type": "code",
   "execution_count": 5,
   "metadata": {},
   "outputs": [
    {
     "data": {
      "application/vnd.jupyter.widget-view+json": {
       "model_id": "1c511b9037b242f5a85825c1915a1c77",
       "version_major": 2,
       "version_minor": 0
      },
      "text/plain": [
       "VBox()"
      ]
     },
     "metadata": {},
     "output_type": "display_data"
    },
    {
     "data": {
      "application/vnd.jupyter.widget-view+json": {
       "model_id": "",
       "version_major": 2,
       "version_minor": 0
      },
      "text/plain": [
       "FloatProgress(value=0.0, bar_style='info', description='Progress:', layout=Layout(height='25px', width='50%'),…"
      ]
     },
     "metadata": {},
     "output_type": "display_data"
    },
    {
     "name": "stdout",
     "output_type": "stream",
     "text": [
      "[('bread', 2), ('brush', 2), ('conditioner', 3), ('jeans', 2), ('meat', 2), ('shampoo', 3), ('soap', 3), ('tshirt', 2)]"
     ]
    }
   ],
   "source": [
    "# Merge the values for each key using an associative and commutative \n",
    "# reduce function.\n",
    "\n",
    "# This will also perform the merging locally on each mapper before sending \n",
    "# results to a reducer, similarly to a “combiner” in MapReduce.\n",
    "\n",
    "# Output will be partitioned with numPartitions partitions, or the default \n",
    "# parallelism level if numPartitions is not specified. Default partitioner is hash-partition.\n",
    "rdd2 = sc.parallelize([(\"shampoo\", 1), (\"soap\", 1), (\"conditioner\", 3), (\"brush\", 2), (\"soap\", 2), (\"shampoo\", 2), (\"bread\", 2), (\"meat\", 2), (\"tshirt\", 2), (\"jeans\", 2)])\n",
    "\n",
    "sorted(rdd2.reduceByKey(lambda x, y:x+y).collect())"
   ]
  },
  {
   "cell_type": "markdown",
   "metadata": {},
   "source": [
    "- **groupByKey()**"
   ]
  },
  {
   "cell_type": "code",
   "execution_count": 6,
   "metadata": {},
   "outputs": [
    {
     "data": {
      "application/vnd.jupyter.widget-view+json": {
       "model_id": "50faad4915114c1a87302c25d8e51f5c",
       "version_major": 2,
       "version_minor": 0
      },
      "text/plain": [
       "VBox()"
      ]
     },
     "metadata": {},
     "output_type": "display_data"
    },
    {
     "data": {
      "application/vnd.jupyter.widget-view+json": {
       "model_id": "",
       "version_major": 2,
       "version_minor": 0
      },
      "text/plain": [
       "FloatProgress(value=0.0, bar_style='info', description='Progress:', layout=Layout(height='25px', width='50%'),…"
      ]
     },
     "metadata": {},
     "output_type": "display_data"
    },
    {
     "name": "stdout",
     "output_type": "stream",
     "text": [
      "[('bread', <pyspark.resultiterable.ResultIterable object at 0x7fb2cd5f1750>), ('brush', <pyspark.resultiterable.ResultIterable object at 0x7fb2cd5f1250>), ('conditioner', <pyspark.resultiterable.ResultIterable object at 0x7fb2cd5f1450>), ('jeans', <pyspark.resultiterable.ResultIterable object at 0x7fb2cd5f1350>), ('meat', <pyspark.resultiterable.ResultIterable object at 0x7fb2cd5f1f90>), ('shampoo', <pyspark.resultiterable.ResultIterable object at 0x7fb2cd5f1c90>), ('soap', <pyspark.resultiterable.ResultIterable object at 0x7fb2cd5f16d0>), ('tshirt', <pyspark.resultiterable.ResultIterable object at 0x7fb2cd5f1590>)]"
     ]
    }
   ],
   "source": [
    "# Group the values for each key in the RDD into a single sequence. \n",
    "# Hash-partitions partition the resulting RDD with numPartitions.\n",
    "\n",
    "# Note: If you are grouping in order to perform an aggregation (such as a sum or average) over each key, \n",
    "# using reduceByKey or aggregateByKey will provide much better performance.\n",
    "\n",
    "rdd3 = sc.parallelize([(\"shampoo\", 1), (\"soap\", 1), (\"conditioner\", 3), (\"brush\", 2), (\"soap\", 2), (\"shampoo\", 2), (\"bread\", 2), (\"meat\", 2), (\"tshirt\", 2), (\"jeans\", 2)])\n",
    "sorted(rdd3.groupByKey().collect())"
   ]
  },
  {
   "cell_type": "markdown",
   "metadata": {},
   "source": [
    "- **mapvalues()**"
   ]
  },
  {
   "cell_type": "code",
   "execution_count": 7,
   "metadata": {},
   "outputs": [
    {
     "data": {
      "application/vnd.jupyter.widget-view+json": {
       "model_id": "c0c9215666504c7db091e97e569370a7",
       "version_major": 2,
       "version_minor": 0
      },
      "text/plain": [
       "VBox()"
      ]
     },
     "metadata": {},
     "output_type": "display_data"
    },
    {
     "data": {
      "application/vnd.jupyter.widget-view+json": {
       "model_id": "",
       "version_major": 2,
       "version_minor": 0
      },
      "text/plain": [
       "FloatProgress(value=0.0, bar_style='info', description='Progress:', layout=Layout(height='25px', width='50%'),…"
      ]
     },
     "metadata": {},
     "output_type": "display_data"
    },
    {
     "name": "stdout",
     "output_type": "stream",
     "text": [
      "[('cosmetics', 4), ('food', 2), ('clothes', 2)]"
     ]
    }
   ],
   "source": [
    "# Pass each value in the key-value pair RDD through a map function without changing the keys; \n",
    "# this also retains the original RDD’s partitioning.\n",
    "\n",
    "sales = sc.parallelize([(\"cosmetics\", [\"shampoo\", \"soap\", \"conditioner\", \"brush\"]), (\"food\", [\"bread\", \"meat\"]), (\"clothes\", [\"tshirt\", \"jeans\"])])\n",
    "def f(sales): return len(sales)\n",
    "sales.mapValues(f).collect()"
   ]
  },
  {
   "cell_type": "markdown",
   "metadata": {},
   "source": [
    "- **flatmapvalues()**"
   ]
  },
  {
   "cell_type": "code",
   "execution_count": 8,
   "metadata": {},
   "outputs": [
    {
     "data": {
      "application/vnd.jupyter.widget-view+json": {
       "model_id": "cbe0bfee6e904b4a819769e50f8c0c66",
       "version_major": 2,
       "version_minor": 0
      },
      "text/plain": [
       "VBox()"
      ]
     },
     "metadata": {},
     "output_type": "display_data"
    },
    {
     "data": {
      "application/vnd.jupyter.widget-view+json": {
       "model_id": "",
       "version_major": 2,
       "version_minor": 0
      },
      "text/plain": [
       "FloatProgress(value=0.0, bar_style='info', description='Progress:', layout=Layout(height='25px', width='50%'),…"
      ]
     },
     "metadata": {},
     "output_type": "display_data"
    },
    {
     "name": "stdout",
     "output_type": "stream",
     "text": [
      "[('cosmetics', 'shampoo'), ('cosmetics', 'soap'), ('cosmetics', 'conditioner'), ('cosmetics', 'brush'), ('food', 'bread'), ('food', 'meat'), ('clothes', 'tshirt'), ('clothes', 'jeans')]"
     ]
    }
   ],
   "source": [
    "# Pass each value in the key-value pair RDD through a flatMap function without changing the keys.\n",
    "# This also retans the original RDD’s partitioning.\n",
    "sales = sc.parallelize([(\"cosmetics\", [\"shampoo\", \"soap\", \"conditioner\", \"brush\"]), (\"food\", [\"bread\", \"meat\"]), (\"clothes\", [\"tshirt\", \"jeans\"])])\n",
    "def f(sales): return sales\n",
    "sales.flatMapValues(f).collect()\n"
   ]
  },
  {
   "cell_type": "markdown",
   "metadata": {},
   "source": [
    "- **keys()**"
   ]
  },
  {
   "cell_type": "code",
   "execution_count": 10,
   "metadata": {
    "collapsed": true
   },
   "outputs": [
    {
     "data": {
      "application/vnd.jupyter.widget-view+json": {
       "model_id": "3131bf66bd2f4b7d8462184bb6a6ef6c",
       "version_major": 2,
       "version_minor": 0
      },
      "text/plain": [
       "VBox()"
      ]
     },
     "metadata": {},
     "output_type": "display_data"
    },
    {
     "data": {
      "application/vnd.jupyter.widget-view+json": {
       "model_id": "",
       "version_major": 2,
       "version_minor": 0
      },
      "text/plain": [
       "FloatProgress(value=0.0, bar_style='info', description='Progress:', layout=Layout(height='25px', width='50%'),…"
      ]
     },
     "metadata": {},
     "output_type": "display_data"
    },
    {
     "name": "stdout",
     "output_type": "stream",
     "text": [
      "['shampoo', 'soap', 'conditioner', 'brush', 'soap', 'shampoo', 'bread', 'meat', 'tshirt', 'jeans']"
     ]
    }
   ],
   "source": [
    "# Return an RDD with the keys of each tuple.\n",
    "sales_1 = sc.parallelize([(\"shampoo\", 1), (\"soap\", 1), (\"conditioner\", 3), (\"brush\", 2), (\"soap\", 2), (\"shampoo\", 2), (\"bread\", 2), (\"meat\", 2), (\"tshirt\", 2), (\"jeans\", 2)])\n",
    "k = sales_1.keys();\n",
    "k.collect()\n"
   ]
  },
  {
   "cell_type": "markdown",
   "metadata": {},
   "source": [
    "- **values()**"
   ]
  },
  {
   "cell_type": "code",
   "execution_count": 11,
   "metadata": {},
   "outputs": [
    {
     "data": {
      "application/vnd.jupyter.widget-view+json": {
       "model_id": "83ad575c239b4468bb77ade251429ece",
       "version_major": 2,
       "version_minor": 0
      },
      "text/plain": [
       "VBox()"
      ]
     },
     "metadata": {},
     "output_type": "display_data"
    },
    {
     "data": {
      "application/vnd.jupyter.widget-view+json": {
       "model_id": "",
       "version_major": 2,
       "version_minor": 0
      },
      "text/plain": [
       "FloatProgress(value=0.0, bar_style='info', description='Progress:', layout=Layout(height='25px', width='50%'),…"
      ]
     },
     "metadata": {},
     "output_type": "display_data"
    },
    {
     "name": "stdout",
     "output_type": "stream",
     "text": [
      "[1, '1', 3, 2, 2, 2, 2, 2, 2, 2]"
     ]
    }
   ],
   "source": [
    "#values()\n",
    "# Return an RDD with the values of each tuple.\n",
    "sales_1 = sc.parallelize([(\"shampoo\", 1), (\"soap\", \"1\"), (\"conditioner\", 3), (\"brush\", 2), (\"soap\", 2), (\"shampoo\", 2), (\"bread\", 2), (\"meat\", 2), (\"tshirt\", 2), (\"jeans\", 2)])\n",
    "v = sales_1.values() \n",
    "v.collect()"
   ]
  },
  {
   "cell_type": "markdown",
   "metadata": {},
   "source": [
    "- **sortByKeys()**"
   ]
  },
  {
   "cell_type": "code",
   "execution_count": 12,
   "metadata": {},
   "outputs": [
    {
     "data": {
      "application/vnd.jupyter.widget-view+json": {
       "model_id": "5090a436686647308d18cf7ef431b491",
       "version_major": 2,
       "version_minor": 0
      },
      "text/plain": [
       "VBox()"
      ]
     },
     "metadata": {},
     "output_type": "display_data"
    },
    {
     "data": {
      "application/vnd.jupyter.widget-view+json": {
       "model_id": "",
       "version_major": 2,
       "version_minor": 0
      },
      "text/plain": [
       "FloatProgress(value=0.0, bar_style='info', description='Progress:', layout=Layout(height='25px', width='50%'),…"
      ]
     },
     "metadata": {},
     "output_type": "display_data"
    },
    {
     "name": "stdout",
     "output_type": "stream",
     "text": [
      "[('Apple', 12), ('Banana', 11), ('Carrot', 13), ('Mango', 14), ('Orange', 15)]"
     ]
    }
   ],
   "source": [
    "# Sorts this RDD, which is assumed to consist of (key, value) pairs.\n",
    "tmp = [('Apple', 12), ('Banana', 11), ('Mango', 14), ('Carrot', 13), ('Orange', 15)]\n",
    "sc.parallelize(tmp).sortByKey(True, 1).collect()"
   ]
  },
  {
   "cell_type": "markdown",
   "metadata": {},
   "source": [
    "## Transformation functions on two paired RDDs"
   ]
  },
  {
   "cell_type": "markdown",
   "metadata": {},
   "source": [
    "- **subtractByKey()**"
   ]
  },
  {
   "cell_type": "code",
   "execution_count": 13,
   "metadata": {},
   "outputs": [
    {
     "data": {
      "application/vnd.jupyter.widget-view+json": {
       "model_id": "d4079a5b23b74576b257938f479b08af",
       "version_major": 2,
       "version_minor": 0
      },
      "text/plain": [
       "VBox()"
      ]
     },
     "metadata": {},
     "output_type": "display_data"
    },
    {
     "data": {
      "application/vnd.jupyter.widget-view+json": {
       "model_id": "",
       "version_major": 2,
       "version_minor": 0
      },
      "text/plain": [
       "FloatProgress(value=0.0, bar_style='info', description='Progress:', layout=Layout(height='25px', width='50%'),…"
      ]
     },
     "metadata": {},
     "output_type": "display_data"
    },
    {
     "name": "stdout",
     "output_type": "stream",
     "text": [
      "[('b', 4), ('b', 5)]"
     ]
    }
   ],
   "source": [
    "# Return each (key, value) pair in self that has no pair with matching key in other.\n",
    "\n",
    "x = sc.parallelize([(\"a\", 1), (\"b\", 4), (\"b\", 5), (\"a\", 2)])\n",
    "y = sc.parallelize([(\"a\", 3), (\"c\", None)])\n",
    "sorted(x.subtractByKey(y).collect())"
   ]
  },
  {
   "cell_type": "markdown",
   "metadata": {},
   "source": [
    "- **Join()**"
   ]
  },
  {
   "cell_type": "code",
   "execution_count": 14,
   "metadata": {},
   "outputs": [
    {
     "data": {
      "application/vnd.jupyter.widget-view+json": {
       "model_id": "acc849fdad704b38b6b25881c7786fa2",
       "version_major": 2,
       "version_minor": 0
      },
      "text/plain": [
       "VBox()"
      ]
     },
     "metadata": {},
     "output_type": "display_data"
    },
    {
     "data": {
      "application/vnd.jupyter.widget-view+json": {
       "model_id": "",
       "version_major": 2,
       "version_minor": 0
      },
      "text/plain": [
       "FloatProgress(value=0.0, bar_style='info', description='Progress:', layout=Layout(height='25px', width='50%'),…"
      ]
     },
     "metadata": {},
     "output_type": "display_data"
    },
    {
     "name": "stdout",
     "output_type": "stream",
     "text": [
      "[('Apple', (50, 100)), ('Banana', (100, 120)), ('Mango', (150, 150))]"
     ]
    }
   ],
   "source": [
    "# Return an RDD containing all pairs of elements with matching keys in self and other.\n",
    "\n",
    "# Each pair of elements will be returned as a (k, (v1, v2)) tuple,\n",
    "# where (k, v1) is in self and (k, v2) is in other.\n",
    "\n",
    "# Performs a hash join across the cluster.\n",
    "\n",
    "x = sc.parallelize([('Apple', 50), ('Banana', 100), ('Mango', 150), ('Carrot', 120)])\n",
    "y = sc.parallelize([('Apple', 100), ('Banana', 120), ('Mango',150)])\n",
    "sorted(x.join(y).collect())"
   ]
  },
  {
   "cell_type": "markdown",
   "metadata": {},
   "source": [
    "- **RightOuterJoin()**"
   ]
  },
  {
   "cell_type": "code",
   "execution_count": 15,
   "metadata": {},
   "outputs": [
    {
     "data": {
      "application/vnd.jupyter.widget-view+json": {
       "model_id": "19b5d891973b4eff972dd88856ed866d",
       "version_major": 2,
       "version_minor": 0
      },
      "text/plain": [
       "VBox()"
      ]
     },
     "metadata": {},
     "output_type": "display_data"
    },
    {
     "data": {
      "application/vnd.jupyter.widget-view+json": {
       "model_id": "",
       "version_major": 2,
       "version_minor": 0
      },
      "text/plain": [
       "FloatProgress(value=0.0, bar_style='info', description='Progress:', layout=Layout(height='25px', width='50%'),…"
      ]
     },
     "metadata": {},
     "output_type": "display_data"
    },
    {
     "name": "stdout",
     "output_type": "stream",
     "text": [
      "[('Apple', (100, 50)), ('Banana', (120, 100)), ('Carrot', (None, 120)), ('Mango', (150, 150))]"
     ]
    }
   ],
   "source": [
    "# Perform a right outer join of self and other.\n",
    "\n",
    "# For each element (k, w) in other, the resulting RDD will either contain\n",
    "# all pairs (k, (v, w)) for v in this, or the pair (k, (None, w)) if no elements in self have key k.\n",
    "\n",
    "# Hash-partitions partition the resulting RDD into the given number of partitions.\n",
    "\n",
    "rdd1 = sc.parallelize([('Apple', 50), ('Banana', 100), ('Mango', 150), ('Carrot', 120)])\n",
    "rdd2 = sc.parallelize([('Apple', 100), ('Banana', 120), ('Mango',150)])\n",
    "sorted(rdd2.rightOuterJoin(rdd1).collect())\n"
   ]
  },
  {
   "cell_type": "markdown",
   "metadata": {},
   "source": [
    "- **LefttOuterJoin()**"
   ]
  },
  {
   "cell_type": "code",
   "execution_count": 16,
   "metadata": {},
   "outputs": [
    {
     "data": {
      "application/vnd.jupyter.widget-view+json": {
       "model_id": "313311118b8341ec8230f1ee36ea0d4b",
       "version_major": 2,
       "version_minor": 0
      },
      "text/plain": [
       "VBox()"
      ]
     },
     "metadata": {},
     "output_type": "display_data"
    },
    {
     "data": {
      "application/vnd.jupyter.widget-view+json": {
       "model_id": "",
       "version_major": 2,
       "version_minor": 0
      },
      "text/plain": [
       "FloatProgress(value=0.0, bar_style='info', description='Progress:', layout=Layout(height='25px', width='50%'),…"
      ]
     },
     "metadata": {},
     "output_type": "display_data"
    },
    {
     "name": "stdout",
     "output_type": "stream",
     "text": [
      "[('Apple', (100, 50)), ('Banana', (120, 100)), ('Mango', (150, 150))]"
     ]
    }
   ],
   "source": [
    "# Perform a left outer join of self and other.\n",
    "\n",
    "# For each element (k, v) in self, the resulting RDD will either contain \n",
    "# all pairs (k, (v, w)) for w in other, or the pair (k, (v, None)) if no elements in other have key k.\n",
    "\n",
    "# Hash-partitions partition the resulting RDD into the given number of partitions.\n",
    "\n",
    "rdd1 = sc.parallelize([('Apple', 50), ('Banana', 100), ('Mango', 150), ('Carrot', 120)])\n",
    "rdd2 = sc.parallelize([('Apple', 100), ('Banana', 120), ('Mango',150)])\n",
    "sorted(rdd2.leftOuterJoin(rdd1).collect())"
   ]
  },
  {
   "cell_type": "markdown",
   "metadata": {},
   "source": [
    "- **cogroup()**"
   ]
  },
  {
   "cell_type": "code",
   "execution_count": 18,
   "metadata": {},
   "outputs": [
    {
     "data": {
      "application/vnd.jupyter.widget-view+json": {
       "model_id": "ca0226bc42414d8885d83a9adc0f0226",
       "version_major": 2,
       "version_minor": 0
      },
      "text/plain": [
       "VBox()"
      ]
     },
     "metadata": {},
     "output_type": "display_data"
    },
    {
     "data": {
      "application/vnd.jupyter.widget-view+json": {
       "model_id": "",
       "version_major": 2,
       "version_minor": 0
      },
      "text/plain": [
       "FloatProgress(value=0.0, bar_style='info', description='Progress:', layout=Layout(height='25px', width='50%'),…"
      ]
     },
     "metadata": {},
     "output_type": "display_data"
    },
    {
     "name": "stdout",
     "output_type": "stream",
     "text": [
      "[('Apple', ([50], [100])), ('Banana', ([100], [120])), ('Carrot', ([120], [])), ('Mango', ([150], [150]))]"
     ]
    }
   ],
   "source": [
    "# For each key k in self or other, return a resulting RDD that contains a \n",
    "# tuple with the list of values for that key in self as well as other.\n",
    "\n",
    "x = sc.parallelize([('Apple', 50), ('Banana', 100), ('Mango', 150), ('Carrot', 120)])\n",
    "y = sc.parallelize([('Apple', 100), ('Banana', 120), ('Mango',150)])\n",
    "\n",
    "#rdd1.cogroup(rdd2).collect()  \n",
    "# [('a',\n",
    "#   (<pyspark.resultiterable.ResultIterable at 0x7f5c5c0dfed0>,\n",
    "#    <pyspark.resultiterable.ResultIterable at 0x7f5c5c1c1450>)),\n",
    "#  ('b',\n",
    "#   (<pyspark.resultiterable.ResultIterable at 0x7f5c5c07bbd0>,\n",
    "#    <pyspark.resultiterable.ResultIterable at 0x7f5c5c07bc50>))]\n",
    "\n",
    "\n",
    "[(x, tuple(map(list, y))) for x, y in sorted(list(x.cogroup(y).collect()))]\n",
    "\n",
    "\n"
   ]
  },
  {
   "cell_type": "markdown",
   "metadata": {},
   "source": [
    "## Action on paired RDD "
   ]
  },
  {
   "cell_type": "markdown",
   "metadata": {},
   "source": [
    "- **countByKey()**"
   ]
  },
  {
   "cell_type": "code",
   "execution_count": 19,
   "metadata": {},
   "outputs": [
    {
     "data": {
      "application/vnd.jupyter.widget-view+json": {
       "model_id": "a3e886c36c9e4be78931148aa6f25ee2",
       "version_major": 2,
       "version_minor": 0
      },
      "text/plain": [
       "VBox()"
      ]
     },
     "metadata": {},
     "output_type": "display_data"
    },
    {
     "data": {
      "application/vnd.jupyter.widget-view+json": {
       "model_id": "",
       "version_major": 2,
       "version_minor": 0
      },
      "text/plain": [
       "FloatProgress(value=0.0, bar_style='info', description='Progress:', layout=Layout(height='25px', width='50%'),…"
      ]
     },
     "metadata": {},
     "output_type": "display_data"
    },
    {
     "name": "stdout",
     "output_type": "stream",
     "text": [
      "[('Apple', 1), ('Banana', 1), ('Carrot', 1), ('Mango', 1)]"
     ]
    }
   ],
   "source": [
    "# Count the number of elements for each key, and return the result to \n",
    "# the master as a dictionary.\n",
    "\n",
    "rdd = sc.parallelize([('Apple', 50), ('Banana', 100), ('Mango', 150), ('Carrot', 120)])\n",
    "sorted(rdd.countByKey().items())"
   ]
  },
  {
   "cell_type": "markdown",
   "metadata": {},
   "source": [
    "- **lookup(key)**"
   ]
  },
  {
   "cell_type": "code",
   "execution_count": 20,
   "metadata": {},
   "outputs": [
    {
     "data": {
      "application/vnd.jupyter.widget-view+json": {
       "model_id": "95f0f7ae76b84aee9d5a86a7ffa5a325",
       "version_major": 2,
       "version_minor": 0
      },
      "text/plain": [
       "VBox()"
      ]
     },
     "metadata": {},
     "output_type": "display_data"
    },
    {
     "data": {
      "application/vnd.jupyter.widget-view+json": {
       "model_id": "",
       "version_major": 2,
       "version_minor": 0
      },
      "text/plain": [
       "FloatProgress(value=0.0, bar_style='info', description='Progress:', layout=Layout(height='25px', width='50%'),…"
      ]
     },
     "metadata": {},
     "output_type": "display_data"
    },
    {
     "name": "stdout",
     "output_type": "stream",
     "text": [
      "[42]"
     ]
    }
   ],
   "source": [
    "# Return the list of values in the RDD for key. \n",
    "# This operation is done efficiently if the RDD has a known partitioner \n",
    "# only by searching the partition that the key maps to.\n",
    "\n",
    "l = range(1000)\n",
    "rdd = sc.parallelize(zip(l, l), 10)\n",
    "rdd.lookup(42)"
   ]
  },
  {
   "cell_type": "code",
   "execution_count": null,
   "metadata": {},
   "outputs": [],
   "source": []
  }
 ],
 "metadata": {
  "kernelspec": {
   "display_name": "PySpark",
   "language": "",
   "name": "pysparkkernel"
  },
  "language_info": {
   "codemirror_mode": {
    "name": "python",
    "version": 3
   },
   "mimetype": "text/x-python",
   "name": "pyspark",
   "pygments_lexer": "python3"
  }
 },
 "nbformat": 4,
 "nbformat_minor": 2
}
