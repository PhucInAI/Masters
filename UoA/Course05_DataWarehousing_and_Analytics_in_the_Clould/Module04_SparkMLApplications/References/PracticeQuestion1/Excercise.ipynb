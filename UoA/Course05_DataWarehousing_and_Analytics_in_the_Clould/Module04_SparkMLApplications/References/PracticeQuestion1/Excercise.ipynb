{
 "cells": [
  {
   "cell_type": "code",
   "execution_count": 1,
   "metadata": {},
   "outputs": [],
   "source": [
    "import os\n",
    "import sys\n",
    "# # Here you need to have same Python version on your local machine and on worker node i.e. EC2. here both should have python3.\n",
    "# os.environ[\"PYSPARK_PYTHON\"] = \"/bin/python3\"\n",
    "# os.environ[\"JAVA_HOME\"] = \"/usr/java/jdk1.8.0_161/jre\"\n",
    "# os.environ[\"SPARK_HOME\"] = \"/home/ec2-user/spark-2.4.4-bin-hadoop2.7\"\n",
    "# os.environ[\"PYLIB\"] = os.environ[\"SPARK_HOME\"] + \"/python/lib\"\n",
    "# sys.path.insert(0, os.environ[\"PYLIB\"] + \"/py4j-0.10.7-src.zip\")\n",
    "# sys.path.insert(0, os.environ[\"PYLIB\"] + \"/pyspark.zip\")"
   ]
  },
  {
   "cell_type": "code",
   "execution_count": 3,
   "metadata": {},
   "outputs": [],
   "source": [
    "# from pyspark import SparkContext, SparkConf\n",
    "# conf = SparkConf().setAppName(\"jupyter_Spark\").setMaster(\"yarn-client\")\n",
    "# sc = SparkContext(conf=conf)\n",
    "# sc"
   ]
  },
  {
   "cell_type": "code",
   "execution_count": null,
   "metadata": {},
   "outputs": [],
   "source": [
    "# Run this cell if you are using sklearn for the first time\n",
    "# ! pip3 install sklearn --user"
   ]
  },
  {
   "cell_type": "code",
   "execution_count": null,
   "metadata": {},
   "outputs": [],
   "source": [
    "# Creating Spark Session "
   ]
  },
  {
   "cell_type": "code",
   "execution_count": 4,
   "metadata": {},
   "outputs": [
    {
     "name": "stderr",
     "output_type": "stream",
     "text": [
      "23/08/07 10:11:55 WARN Utils: Your hostname, ptn-PC resolves to a loopback address: 127.0.1.1; using 192.168.1.100 instead (on interface wlx30de4b211ef8)\n",
      "23/08/07 10:11:55 WARN Utils: Set SPARK_LOCAL_IP if you need to bind to another address\n",
      "Setting default log level to \"WARN\".\n",
      "To adjust logging level use sc.setLogLevel(newLevel). For SparkR, use setLogLevel(newLevel).\n",
      "23/08/07 10:11:56 WARN NativeCodeLoader: Unable to load native-hadoop library for your platform... using builtin-java classes where applicable\n",
      "23/08/07 10:11:57 WARN Utils: Service 'SparkUI' could not bind on port 4040. Attempting port 4041.\n"
     ]
    }
   ],
   "source": [
    "from pyspark.sql import SparkSession\n",
    "spark = SparkSession.builder.appName('Mllib_Overview').getOrCreate()"
   ]
  },
  {
   "cell_type": "code",
   "execution_count": 5,
   "metadata": {},
   "outputs": [],
   "source": [
    "#Reading Data from a CSV file \n",
    "#Inferring Schema and Setting Header as True\n",
    "#Upload the dataset to your amazon s3 bucket then use the following command to read the data\n",
    "df1 = spark.read.csv('./auto-miles-per-gallon-Raw.csv', header=True, inferSchema=True)"
   ]
  },
  {
   "cell_type": "code",
   "execution_count": 6,
   "metadata": {},
   "outputs": [
    {
     "name": "stdout",
     "output_type": "stream",
     "text": [
      "+-----+---------+------------+----------+------+------------+---------+--------------------+\n",
      "|  MPG|CYLINDERS|DISPLACEMENT|HORSEPOWER|WEIGHT|ACCELERATION|MODELYEAR|                NAME|\n",
      "+-----+---------+------------+----------+------+------------+---------+--------------------+\n",
      "|   18|        8|       307.0|       130|  3504|        12.0|       70|chevrolet chevell...|\n",
      "|   15|        8|       350.0|       165|  3693|        11.5|       70| buick skylark 320\"\"|\n",
      "|   18|        8|       318.0|       150|  3436|        11.0|       70|plymouth satellite\"\"|\n",
      "|   16|        8|       304.0|       150|  3433|        12.0|       70|     amc rebel sst\"\"|\n",
      "|   17|        8|       302.0|       140|  3449|        10.5|       70|       ford torino\"\"|\n",
      "|   15|        8|       429.0|      Null|  4341|        10.0|       70|  ford galaxie 500\"\"|\n",
      "|   14|        8|       454.0|       220|  4354|         9.0|       70|  chevrolet impala\"\"|\n",
      "|   14|        8|       440.0|       215|  4312|         8.5|       70| plymouth fury iii\"\"|\n",
      "|   14|        8|       455.0|    asdasd|  4425|        10.0|       70|  pontiac catalina\"\"|\n",
      "|   15|        8|       390.0|       190|  3850|         8.5|       70|amc ambassador dpl\"\"|\n",
      "|   NA|        4|       133.0|       115|  3090|        17.5|       70|citroen ds-21 pal...|\n",
      "|hellp|        8|       350.0|       165|  4142|        11.5|       70|chevrolet chevell...|\n",
      "|   NA|        8|       351.0|       153|  4034|        11.0|       70|  ford torino (sw)\"\"|\n",
      "|   NA|        8|       383.0|       175|  4166|        10.5|       70|plymouth satellit...|\n",
      "|   NA|        8|       360.0|       175|  3850|        11.0|       70|amc rebel sst (sw)\"\"|\n",
      "|   15|        8|       383.0|       170|  3563|        10.0|       70|dodge challenger ...|\n",
      "|   14|        8|       340.0|       160|  3609|         8.0|       70|plymouth 'cuda 340\"\"|\n",
      "|   NA|        8|       302.0|       140|  3353|         8.0|       70|ford mustang boss...|\n",
      "|   15|        8|       400.0|       150|  3761|         9.5|       70|chevrolet monte c...|\n",
      "|   14|        8|       455.0|       225|  3086|        10.0|       70|buick estate wago...|\n",
      "+-----+---------+------------+----------+------+------------+---------+--------------------+\n",
      "only showing top 20 rows\n",
      "\n"
     ]
    }
   ],
   "source": [
    "#Displaying samples\n",
    "df1.show() "
   ]
  },
  {
   "cell_type": "code",
   "execution_count": 7,
   "metadata": {},
   "outputs": [
    {
     "name": "stdout",
     "output_type": "stream",
     "text": [
      "root\n",
      " |-- MPG: string (nullable = true)\n",
      " |-- CYLINDERS: integer (nullable = true)\n",
      " |-- DISPLACEMENT: double (nullable = true)\n",
      " |-- HORSEPOWER: string (nullable = true)\n",
      " |-- WEIGHT: integer (nullable = true)\n",
      " |-- ACCELERATION: double (nullable = true)\n",
      " |-- MODELYEAR: integer (nullable = true)\n",
      " |-- NAME: string (nullable = true)\n",
      "\n"
     ]
    }
   ],
   "source": [
    "#Printing Schema\n",
    "df1.printSchema() "
   ]
  },
  {
   "cell_type": "code",
   "execution_count": 8,
   "metadata": {},
   "outputs": [
    {
     "name": "stderr",
     "output_type": "stream",
     "text": [
      "23/08/07 10:12:27 WARN package: Truncated the string representation of a plan since it was too large. This behavior can be adjusted by setting 'spark.sql.debug.maxToStringFields'.\n",
      "[Stage 3:>                                                          (0 + 1) / 1]\r"
     ]
    },
    {
     "name": "stdout",
     "output_type": "stream",
     "text": [
      "+-------+------------------+-----------------+------------------+------------------+------------------+------------------+------------------+--------------------+\n",
      "|summary|               MPG|        CYLINDERS|      DISPLACEMENT|        HORSEPOWER|            WEIGHT|      ACCELERATION|         MODELYEAR|                NAME|\n",
      "+-------+------------------+-----------------+------------------+------------------+------------------+------------------+------------------+--------------------+\n",
      "|  count|               406|              406|               406|               406|               406|               406|               406|                 406|\n",
      "|   mean|23.514572864321615|5.475369458128079| 194.7795566502463|104.56675062972292|2979.4137931034484|15.519704433497521| 75.92118226600985|                null|\n",
      "| stddev| 7.815984312565783|1.712159631548529|104.92245837948867|  38.1556978120705| 847.0043282393513|2.8033588163425462|3.7487373454558743|                null|\n",
      "|    min|                10|                3|              68.0|               100|              1613|               8.0|                70|amc ambassador br...|\n",
      "|    max|             hellp|                8|             455.0|               sda|              5140|              24.8|                82|         vw rabbit\"\"|\n",
      "+-------+------------------+-----------------+------------------+------------------+------------------+------------------+------------------+--------------------+\n",
      "\n"
     ]
    },
    {
     "name": "stderr",
     "output_type": "stream",
     "text": [
      "                                                                                \r"
     ]
    }
   ],
   "source": [
    "#Statistically summarizing about the data\n",
    "df1.describe().show()"
   ]
  },
  {
   "cell_type": "code",
   "execution_count": 9,
   "metadata": {},
   "outputs": [
    {
     "data": {
      "text/plain": [
       "['MPG',\n",
       " 'CYLINDERS',\n",
       " 'DISPLACEMENT',\n",
       " 'HORSEPOWER',\n",
       " 'WEIGHT',\n",
       " 'ACCELERATION',\n",
       " 'MODELYEAR',\n",
       " 'NAME']"
      ]
     },
     "execution_count": 9,
     "metadata": {},
     "output_type": "execute_result"
    }
   ],
   "source": [
    "df1.columns"
   ]
  },
  {
   "cell_type": "code",
   "execution_count": 10,
   "metadata": {},
   "outputs": [],
   "source": [
    "#Convert the datatype of the columns\n",
    "#Casting MPG, HORSEPOWER, and other columns from String to Double\n",
    "\n",
    "from pyspark.sql.types import * \n",
    "\n",
    "cols = ['MPG', 'CYLINDERS', 'DISPLACEMENT', 'HORSEPOWER', 'WEIGHT', 'ACCELERATION', 'MODELYEAR' ]\n",
    "\n",
    "for i in cols:\n",
    "    df1 = df1.withColumn(i, df1[i].cast(DoubleType()))"
   ]
  },
  {
   "cell_type": "code",
   "execution_count": 11,
   "metadata": {},
   "outputs": [
    {
     "name": "stdout",
     "output_type": "stream",
     "text": [
      "+----+---------+------------+----------+------+------------+---------+--------------------+\n",
      "| MPG|CYLINDERS|DISPLACEMENT|HORSEPOWER|WEIGHT|ACCELERATION|MODELYEAR|                NAME|\n",
      "+----+---------+------------+----------+------+------------+---------+--------------------+\n",
      "|18.0|      8.0|       307.0|     130.0|3504.0|        12.0|     70.0|chevrolet chevell...|\n",
      "|15.0|      8.0|       350.0|     165.0|3693.0|        11.5|     70.0| buick skylark 320\"\"|\n",
      "|18.0|      8.0|       318.0|     150.0|3436.0|        11.0|     70.0|plymouth satellite\"\"|\n",
      "|16.0|      8.0|       304.0|     150.0|3433.0|        12.0|     70.0|     amc rebel sst\"\"|\n",
      "|17.0|      8.0|       302.0|     140.0|3449.0|        10.5|     70.0|       ford torino\"\"|\n",
      "|15.0|      8.0|       429.0|      null|4341.0|        10.0|     70.0|  ford galaxie 500\"\"|\n",
      "|14.0|      8.0|       454.0|     220.0|4354.0|         9.0|     70.0|  chevrolet impala\"\"|\n",
      "|14.0|      8.0|       440.0|     215.0|4312.0|         8.5|     70.0| plymouth fury iii\"\"|\n",
      "|14.0|      8.0|       455.0|      null|4425.0|        10.0|     70.0|  pontiac catalina\"\"|\n",
      "|15.0|      8.0|       390.0|     190.0|3850.0|         8.5|     70.0|amc ambassador dpl\"\"|\n",
      "|null|      4.0|       133.0|     115.0|3090.0|        17.5|     70.0|citroen ds-21 pal...|\n",
      "|null|      8.0|       350.0|     165.0|4142.0|        11.5|     70.0|chevrolet chevell...|\n",
      "|null|      8.0|       351.0|     153.0|4034.0|        11.0|     70.0|  ford torino (sw)\"\"|\n",
      "|null|      8.0|       383.0|     175.0|4166.0|        10.5|     70.0|plymouth satellit...|\n",
      "|null|      8.0|       360.0|     175.0|3850.0|        11.0|     70.0|amc rebel sst (sw)\"\"|\n",
      "|15.0|      8.0|       383.0|     170.0|3563.0|        10.0|     70.0|dodge challenger ...|\n",
      "|14.0|      8.0|       340.0|     160.0|3609.0|         8.0|     70.0|plymouth 'cuda 340\"\"|\n",
      "|null|      8.0|       302.0|     140.0|3353.0|         8.0|     70.0|ford mustang boss...|\n",
      "|15.0|      8.0|       400.0|     150.0|3761.0|         9.5|     70.0|chevrolet monte c...|\n",
      "|14.0|      8.0|       455.0|     225.0|3086.0|        10.0|     70.0|buick estate wago...|\n",
      "+----+---------+------------+----------+------+------------+---------+--------------------+\n",
      "only showing top 20 rows\n",
      "\n"
     ]
    }
   ],
   "source": [
    "df1.show()"
   ]
  },
  {
   "cell_type": "markdown",
   "metadata": {},
   "source": [
    "### Handling Missing Values"
   ]
  },
  {
   "cell_type": "code",
   "execution_count": 12,
   "metadata": {},
   "outputs": [
    {
     "name": "stdout",
     "output_type": "stream",
     "text": [
      "+----+---------+------------+----------+------+------------+---------+--------------------+\n",
      "| MPG|CYLINDERS|DISPLACEMENT|HORSEPOWER|WEIGHT|ACCELERATION|MODELYEAR|                NAME|\n",
      "+----+---------+------------+----------+------+------------+---------+--------------------+\n",
      "|18.0|      8.0|       307.0|     130.0|3504.0|        12.0|     70.0|chevrolet chevell...|\n",
      "|15.0|      8.0|       350.0|     165.0|3693.0|        11.5|     70.0| buick skylark 320\"\"|\n",
      "|18.0|      8.0|       318.0|     150.0|3436.0|        11.0|     70.0|plymouth satellite\"\"|\n",
      "|16.0|      8.0|       304.0|     150.0|3433.0|        12.0|     70.0|     amc rebel sst\"\"|\n",
      "|17.0|      8.0|       302.0|     140.0|3449.0|        10.5|     70.0|       ford torino\"\"|\n",
      "|15.0|      8.0|       429.0|      null|4341.0|        10.0|     70.0|  ford galaxie 500\"\"|\n",
      "|14.0|      8.0|       454.0|     220.0|4354.0|         9.0|     70.0|  chevrolet impala\"\"|\n",
      "|14.0|      8.0|       440.0|     215.0|4312.0|         8.5|     70.0| plymouth fury iii\"\"|\n",
      "|14.0|      8.0|       455.0|      null|4425.0|        10.0|     70.0|  pontiac catalina\"\"|\n",
      "|15.0|      8.0|       390.0|     190.0|3850.0|         8.5|     70.0|amc ambassador dpl\"\"|\n",
      "|null|      4.0|       133.0|     115.0|3090.0|        17.5|     70.0|citroen ds-21 pal...|\n",
      "|null|      8.0|       350.0|     165.0|4142.0|        11.5|     70.0|chevrolet chevell...|\n",
      "|null|      8.0|       351.0|     153.0|4034.0|        11.0|     70.0|  ford torino (sw)\"\"|\n",
      "|null|      8.0|       383.0|     175.0|4166.0|        10.5|     70.0|plymouth satellit...|\n",
      "|null|      8.0|       360.0|     175.0|3850.0|        11.0|     70.0|amc rebel sst (sw)\"\"|\n",
      "|15.0|      8.0|       383.0|     170.0|3563.0|        10.0|     70.0|dodge challenger ...|\n",
      "|14.0|      8.0|       340.0|     160.0|3609.0|         8.0|     70.0|plymouth 'cuda 340\"\"|\n",
      "|null|      8.0|       302.0|     140.0|3353.0|         8.0|     70.0|ford mustang boss...|\n",
      "|15.0|      8.0|       400.0|     150.0|3761.0|         9.5|     70.0|chevrolet monte c...|\n",
      "|14.0|      8.0|       455.0|     225.0|3086.0|        10.0|     70.0|buick estate wago...|\n",
      "+----+---------+------------+----------+------+------------+---------+--------------------+\n",
      "only showing top 20 rows\n",
      "\n"
     ]
    }
   ],
   "source": [
    "df1.show() #Displaying samples "
   ]
  },
  {
   "cell_type": "code",
   "execution_count": 13,
   "metadata": {},
   "outputs": [],
   "source": [
    "#Removing Rows with missing values\n",
    "#Dataframe.na.drop removes any row with a NULL value\n",
    "\n",
    "df2 = df1.dropna()"
   ]
  },
  {
   "cell_type": "code",
   "execution_count": 14,
   "metadata": {},
   "outputs": [
    {
     "name": "stdout",
     "output_type": "stream",
     "text": [
      "+-------+------------------+------------------+------------------+------------------+------------------+------------------+------------------+--------------------+\n",
      "|summary|               MPG|         CYLINDERS|      DISPLACEMENT|        HORSEPOWER|            WEIGHT|      ACCELERATION|         MODELYEAR|                NAME|\n",
      "+-------+------------------+------------------+------------------+------------------+------------------+------------------+------------------+--------------------+\n",
      "|  count|               389|               389|               389|               389|               389|               389|               389|                 389|\n",
      "|   mean|23.505912596401025|5.4575835475578405| 193.1272493573265|103.93830334190231|2970.8817480719795| 15.56992287917736| 76.02570694087403|                null|\n",
      "| stddev|7.8035440668103035|1.7024467902237224|103.52041672172308|37.849829402174656|  846.593666699619|2.7406345198432867|3.6600880681307015|                null|\n",
      "|    min|               9.0|               3.0|              68.0|              46.0|            1613.0|               8.0|              70.0|amc ambassador br...|\n",
      "|    max|              46.6|               8.0|             455.0|             230.0|            5140.0|              24.8|              82.0|         vw rabbit\"\"|\n",
      "+-------+------------------+------------------+------------------+------------------+------------------+------------------+------------------+--------------------+\n",
      "\n"
     ]
    }
   ],
   "source": [
    "df2.describe().show()"
   ]
  },
  {
   "cell_type": "markdown",
   "metadata": {},
   "source": [
    "### Replace missing values with approximate mean values"
   ]
  },
  {
   "cell_type": "markdown",
   "metadata": {},
   "source": [
    "### Estimators \n",
    "\n",
    "An estimator is a stage of the learning algorithm that fits a model on a dataset. The whole process can be denoted as follows DataFrame =[fit]=> Model. An estimator is executed during the step of building a model using existing data. A model, which will be made by the estimator, itself serves as a transformer. Further, an estimator is available in Java through the Estimator class. The .fit() method, which is used for building a model, is available through this class."
   ]
  },
  {
   "cell_type": "markdown",
   "metadata": {},
   "source": [
    "#### Imputer\n",
    "\n",
    "\n",
    "The Imputer estimator completes missing values in a dataset, either using the mean or the median of the columns in which the missing values are located. The input columns should be of DoubleType or FloatType"
   ]
  },
  {
   "cell_type": "code",
   "execution_count": 15,
   "metadata": {},
   "outputs": [],
   "source": [
    "from pyspark.ml.feature import Imputer\n",
    "\n",
    "# Imputer method automatically replaces null values with mean values.\n",
    "imputer = Imputer(inputCols = [\"MPG\",\"HORSEPOWER\"], outputCols = [\"MPG-Out\",\"HORSEPOWER-Out\"])\n",
    "\n",
    "#Fitting DataFrame into a model\n",
    "imputeModel = imputer.fit(df1) \n",
    "\n",
    "#Transforming the DataFrame\n",
    "df3=imputeModel.transform(df1) "
   ]
  },
  {
   "cell_type": "code",
   "execution_count": 16,
   "metadata": {},
   "outputs": [
    {
     "name": "stdout",
     "output_type": "stream",
     "text": [
      "+----+---------+------------+----------+------+------------+---------+--------------------+------------------+------------------+\n",
      "| MPG|CYLINDERS|DISPLACEMENT|HORSEPOWER|WEIGHT|ACCELERATION|MODELYEAR|                NAME|           MPG-Out|    HORSEPOWER-Out|\n",
      "+----+---------+------------+----------+------+------------+---------+--------------------+------------------+------------------+\n",
      "|18.0|      8.0|       307.0|     130.0|3504.0|        12.0|     70.0|chevrolet chevell...|              18.0|             130.0|\n",
      "|15.0|      8.0|       350.0|     165.0|3693.0|        11.5|     70.0| buick skylark 320\"\"|              15.0|             165.0|\n",
      "|18.0|      8.0|       318.0|     150.0|3436.0|        11.0|     70.0|plymouth satellite\"\"|              18.0|             150.0|\n",
      "|16.0|      8.0|       304.0|     150.0|3433.0|        12.0|     70.0|     amc rebel sst\"\"|              16.0|             150.0|\n",
      "|17.0|      8.0|       302.0|     140.0|3449.0|        10.5|     70.0|       ford torino\"\"|              17.0|             140.0|\n",
      "|15.0|      8.0|       429.0|      null|4341.0|        10.0|     70.0|  ford galaxie 500\"\"|              15.0|104.56675062972292|\n",
      "|14.0|      8.0|       454.0|     220.0|4354.0|         9.0|     70.0|  chevrolet impala\"\"|              14.0|             220.0|\n",
      "|14.0|      8.0|       440.0|     215.0|4312.0|         8.5|     70.0| plymouth fury iii\"\"|              14.0|             215.0|\n",
      "|14.0|      8.0|       455.0|      null|4425.0|        10.0|     70.0|  pontiac catalina\"\"|              14.0|104.56675062972292|\n",
      "|15.0|      8.0|       390.0|     190.0|3850.0|         8.5|     70.0|amc ambassador dpl\"\"|              15.0|             190.0|\n",
      "|null|      4.0|       133.0|     115.0|3090.0|        17.5|     70.0|citroen ds-21 pal...|23.514572864321615|             115.0|\n",
      "|null|      8.0|       350.0|     165.0|4142.0|        11.5|     70.0|chevrolet chevell...|23.514572864321615|             165.0|\n",
      "|null|      8.0|       351.0|     153.0|4034.0|        11.0|     70.0|  ford torino (sw)\"\"|23.514572864321615|             153.0|\n",
      "|null|      8.0|       383.0|     175.0|4166.0|        10.5|     70.0|plymouth satellit...|23.514572864321615|             175.0|\n",
      "|null|      8.0|       360.0|     175.0|3850.0|        11.0|     70.0|amc rebel sst (sw)\"\"|23.514572864321615|             175.0|\n",
      "|15.0|      8.0|       383.0|     170.0|3563.0|        10.0|     70.0|dodge challenger ...|              15.0|             170.0|\n",
      "|14.0|      8.0|       340.0|     160.0|3609.0|         8.0|     70.0|plymouth 'cuda 340\"\"|              14.0|             160.0|\n",
      "|null|      8.0|       302.0|     140.0|3353.0|         8.0|     70.0|ford mustang boss...|23.514572864321615|             140.0|\n",
      "|15.0|      8.0|       400.0|     150.0|3761.0|         9.5|     70.0|chevrolet monte c...|              15.0|             150.0|\n",
      "|14.0|      8.0|       455.0|     225.0|3086.0|        10.0|     70.0|buick estate wago...|              14.0|             225.0|\n",
      "+----+---------+------------+----------+------+------------+---------+--------------------+------------------+------------------+\n",
      "only showing top 20 rows\n",
      "\n",
      "+-------+------------------+-----------------+------------------+------------------+------------------+------------------+------------------+--------------------+-----------------+------------------+\n",
      "|summary|               MPG|        CYLINDERS|      DISPLACEMENT|        HORSEPOWER|            WEIGHT|      ACCELERATION|         MODELYEAR|                NAME|          MPG-Out|    HORSEPOWER-Out|\n",
      "+-------+------------------+-----------------+------------------+------------------+------------------+------------------+------------------+--------------------+-----------------+------------------+\n",
      "|  count|               398|              406|               406|               397|               406|               406|               406|                 406|              406|               406|\n",
      "|   mean|23.514572864321615|5.475369458128079| 194.7795566502463|104.56675062972292|2979.4137931034484|15.519704433497521| 75.92118226600985|                null|23.51457286432162|104.56675062972295|\n",
      "| stddev| 7.815984312565783|1.712159631548529|104.92245837948867|  38.1556978120705| 847.0043282393513|2.8033588163425462|3.7487373454558743|                null|7.738404384193235| 37.72936378506086|\n",
      "|    min|               9.0|              3.0|              68.0|              46.0|            1613.0|               8.0|              70.0|amc ambassador br...|              9.0|              46.0|\n",
      "|    max|              46.6|              8.0|             455.0|             230.0|            5140.0|              24.8|              82.0|         vw rabbit\"\"|             46.6|             230.0|\n",
      "+-------+------------------+-----------------+------------------+------------------+------------------+------------------+------------------+--------------------+-----------------+------------------+\n",
      "\n"
     ]
    }
   ],
   "source": [
    "#Describing the dataframe\n",
    "df3.show()\n",
    "df3.describe().show();"
   ]
  },
  {
   "cell_type": "code",
   "execution_count": 17,
   "metadata": {},
   "outputs": [
    {
     "data": {
      "text/plain": [
       "DataFrame[MPG: double, CYLINDERS: double, DISPLACEMENT: double, WEIGHT: double, ACCELERATION: double, MODELYEAR: double, NAME: string, MPG-Out: double, HORSEPOWER-Out: double]"
      ]
     },
     "execution_count": 17,
     "metadata": {},
     "output_type": "execute_result"
    }
   ],
   "source": [
    "#Removing unnecessary columns\n",
    "df3.drop(df3['MPG'])\n",
    "df3.drop(df3['HORSEPOWER'])"
   ]
  },
  {
   "cell_type": "markdown",
   "metadata": {},
   "source": [
    "### Feature Transformers\n",
    "\n",
    "Feature transformer transforms the data stored in a data frame and store the data back as a new data frame. This transformation generally takes place by appending one or more columns to the existing data frame. It can be broken down to simple following sequence DataFrame =[transform]=> DataFrame. Transformer methods are generally executed during the step of preparing and processing the data sets. A transformer is a part of Spark ML and is implemented in Java through the Transformer base class. The .transform() method, which is used for transforming one DataFrame to another, is available through this class.\n",
    "\n",
    "Link to Doumentation - https://spark.apache.org/docs/latest/ml-features.html#feature-transformers"
   ]
  },
  {
   "cell_type": "markdown",
   "metadata": {},
   "source": [
    "#### Vector Assembler\n",
    "\n",
    "VectorAssembler is a transformer that combines a given list of columns into a single vector column. It is useful for combining raw features and features generated by different feature transformers into a single feature vector, in order to train ML models like logistic regression and decision trees."
   ]
  },
  {
   "cell_type": "code",
   "execution_count": 18,
   "metadata": {},
   "outputs": [],
   "source": [
    "from pyspark.ml.linalg import Vectors\n",
    "from pyspark.ml.feature import VectorAssembler\n",
    "\n",
    "\n",
    "assembler = VectorAssembler(\n",
    "    inputCols=[\"CYLINDERS\", \"WEIGHT\", \"HORSEPOWER-Out\", \"DISPLACEMENT\"],\n",
    "    outputCol=\"features\")\n",
    "\n",
    "output = assembler.transform(df3)\n"
   ]
  },
  {
   "cell_type": "code",
   "execution_count": 19,
   "metadata": {},
   "outputs": [
    {
     "data": {
      "text/plain": [
       "Column<'features'>"
      ]
     },
     "execution_count": 19,
     "metadata": {},
     "output_type": "execute_result"
    }
   ],
   "source": [
    "output['features']"
   ]
  },
  {
   "cell_type": "markdown",
   "metadata": {},
   "source": [
    "#### Standard Scalar\n",
    "\n",
    "StandardScaler is an Estimator which can be fit on a dataset to produce a StandardScalerModel. It transforms a dataset of Vector rows, normalizing each feature to have unit standard deviation and/or zero mean"
   ]
  },
  {
   "cell_type": "code",
   "execution_count": 20,
   "metadata": {},
   "outputs": [],
   "source": [
    "from pyspark.ml.feature import StandardScaler\n",
    "\n",
    "scaler = StandardScaler(inputCol=\"features\", outputCol=\"scaledFeatures\",\n",
    "                        withStd=True, withMean=False)\n"
   ]
  },
  {
   "cell_type": "code",
   "execution_count": 21,
   "metadata": {},
   "outputs": [],
   "source": [
    "Scaled_Model = scaler.fit(output)"
   ]
  },
  {
   "cell_type": "code",
   "execution_count": 22,
   "metadata": {},
   "outputs": [],
   "source": [
    "scaled_data = Scaled_Model.transform(output)"
   ]
  },
  {
   "cell_type": "code",
   "execution_count": 23,
   "metadata": {},
   "outputs": [
    {
     "name": "stdout",
     "output_type": "stream",
     "text": [
      "+----+---------+------------+----------+------+------------+---------+--------------------+------------------+------------------+--------------------+--------------------+\n",
      "| MPG|CYLINDERS|DISPLACEMENT|HORSEPOWER|WEIGHT|ACCELERATION|MODELYEAR|                NAME|           MPG-Out|    HORSEPOWER-Out|            features|      scaledFeatures|\n",
      "+----+---------+------------+----------+------+------------+---------+--------------------+------------------+------------------+--------------------+--------------------+\n",
      "|18.0|      8.0|       307.0|     130.0|3504.0|        12.0|     70.0|chevrolet chevell...|              18.0|             130.0|[8.0,3504.0,130.0...|[4.67246152320771...|\n",
      "|15.0|      8.0|       350.0|     165.0|3693.0|        11.5|     70.0| buick skylark 320\"\"|              15.0|             165.0|[8.0,3693.0,165.0...|[4.67246152320771...|\n",
      "|18.0|      8.0|       318.0|     150.0|3436.0|        11.0|     70.0|plymouth satellite\"\"|              18.0|             150.0|[8.0,3436.0,150.0...|[4.67246152320771...|\n",
      "|16.0|      8.0|       304.0|     150.0|3433.0|        12.0|     70.0|     amc rebel sst\"\"|              16.0|             150.0|[8.0,3433.0,150.0...|[4.67246152320771...|\n",
      "|17.0|      8.0|       302.0|     140.0|3449.0|        10.5|     70.0|       ford torino\"\"|              17.0|             140.0|[8.0,3449.0,140.0...|[4.67246152320771...|\n",
      "|15.0|      8.0|       429.0|      null|4341.0|        10.0|     70.0|  ford galaxie 500\"\"|              15.0|104.56675062972292|[8.0,4341.0,104.5...|[4.67246152320771...|\n",
      "|14.0|      8.0|       454.0|     220.0|4354.0|         9.0|     70.0|  chevrolet impala\"\"|              14.0|             220.0|[8.0,4354.0,220.0...|[4.67246152320771...|\n",
      "|14.0|      8.0|       440.0|     215.0|4312.0|         8.5|     70.0| plymouth fury iii\"\"|              14.0|             215.0|[8.0,4312.0,215.0...|[4.67246152320771...|\n",
      "|14.0|      8.0|       455.0|      null|4425.0|        10.0|     70.0|  pontiac catalina\"\"|              14.0|104.56675062972292|[8.0,4425.0,104.5...|[4.67246152320771...|\n",
      "|15.0|      8.0|       390.0|     190.0|3850.0|         8.5|     70.0|amc ambassador dpl\"\"|              15.0|             190.0|[8.0,3850.0,190.0...|[4.67246152320771...|\n",
      "|null|      4.0|       133.0|     115.0|3090.0|        17.5|     70.0|citroen ds-21 pal...|23.514572864321615|             115.0|[4.0,3090.0,115.0...|[2.33623076160385...|\n",
      "|null|      8.0|       350.0|     165.0|4142.0|        11.5|     70.0|chevrolet chevell...|23.514572864321615|             165.0|[8.0,4142.0,165.0...|[4.67246152320771...|\n",
      "|null|      8.0|       351.0|     153.0|4034.0|        11.0|     70.0|  ford torino (sw)\"\"|23.514572864321615|             153.0|[8.0,4034.0,153.0...|[4.67246152320771...|\n",
      "|null|      8.0|       383.0|     175.0|4166.0|        10.5|     70.0|plymouth satellit...|23.514572864321615|             175.0|[8.0,4166.0,175.0...|[4.67246152320771...|\n",
      "|null|      8.0|       360.0|     175.0|3850.0|        11.0|     70.0|amc rebel sst (sw)\"\"|23.514572864321615|             175.0|[8.0,3850.0,175.0...|[4.67246152320771...|\n",
      "|15.0|      8.0|       383.0|     170.0|3563.0|        10.0|     70.0|dodge challenger ...|              15.0|             170.0|[8.0,3563.0,170.0...|[4.67246152320771...|\n",
      "|14.0|      8.0|       340.0|     160.0|3609.0|         8.0|     70.0|plymouth 'cuda 340\"\"|              14.0|             160.0|[8.0,3609.0,160.0...|[4.67246152320771...|\n",
      "|null|      8.0|       302.0|     140.0|3353.0|         8.0|     70.0|ford mustang boss...|23.514572864321615|             140.0|[8.0,3353.0,140.0...|[4.67246152320771...|\n",
      "|15.0|      8.0|       400.0|     150.0|3761.0|         9.5|     70.0|chevrolet monte c...|              15.0|             150.0|[8.0,3761.0,150.0...|[4.67246152320771...|\n",
      "|14.0|      8.0|       455.0|     225.0|3086.0|        10.0|     70.0|buick estate wago...|              14.0|             225.0|[8.0,3086.0,225.0...|[4.67246152320771...|\n",
      "+----+---------+------------+----------+------+------------+---------+--------------------+------------------+------------------+--------------------+--------------------+\n",
      "only showing top 20 rows\n",
      "\n"
     ]
    }
   ],
   "source": [
    "scaled_data.show()"
   ]
  },
  {
   "cell_type": "markdown",
   "metadata": {},
   "source": [
    "### Pipeline"
   ]
  },
  {
   "cell_type": "markdown",
   "metadata": {},
   "source": [
    "A pipeline is a series of activities or transformations. Machine learning is performed by implementing a set of tasks, that is collecting the data, cleaning the data, building the model, evaluating the model, etc. All these steps need to be performed one after the other in a particular sequence. In short, a pipeline can be considered as a series of activities wrapped together for better representations. Pipelines primarily have four principal objects- DataFrame, Transformer, Estimator, and Evaluator."
   ]
  },
  {
   "cell_type": "code",
   "execution_count": 24,
   "metadata": {},
   "outputs": [],
   "source": [
    "#Initialize a new dataframe\n",
    "data = df1"
   ]
  },
  {
   "cell_type": "code",
   "execution_count": 25,
   "metadata": {},
   "outputs": [],
   "source": [
    "#import Pipeline and setting the stages of the pipeline\n",
    "from pyspark.ml import Pipeline\n",
    "pipeline =  Pipeline(stages = [imputer,assembler,scaler])\n"
   ]
  },
  {
   "cell_type": "code",
   "execution_count": 26,
   "metadata": {},
   "outputs": [],
   "source": [
    "#Use .fit() and .transform() on the pipeline\n",
    "\n",
    "model = pipeline.fit(data)\n",
    "Final_output = model.transform(data)"
   ]
  },
  {
   "cell_type": "code",
   "execution_count": 27,
   "metadata": {},
   "outputs": [
    {
     "name": "stdout",
     "output_type": "stream",
     "text": [
      "+----+---------+------------+----------+------+------------+---------+--------------------+------------------+------------------+--------------------+--------------------+\n",
      "| MPG|CYLINDERS|DISPLACEMENT|HORSEPOWER|WEIGHT|ACCELERATION|MODELYEAR|                NAME|           MPG-Out|    HORSEPOWER-Out|            features|      scaledFeatures|\n",
      "+----+---------+------------+----------+------+------------+---------+--------------------+------------------+------------------+--------------------+--------------------+\n",
      "|18.0|      8.0|       307.0|     130.0|3504.0|        12.0|     70.0|chevrolet chevell...|              18.0|             130.0|[8.0,3504.0,130.0...|[4.67246152320771...|\n",
      "|15.0|      8.0|       350.0|     165.0|3693.0|        11.5|     70.0| buick skylark 320\"\"|              15.0|             165.0|[8.0,3693.0,165.0...|[4.67246152320771...|\n",
      "|18.0|      8.0|       318.0|     150.0|3436.0|        11.0|     70.0|plymouth satellite\"\"|              18.0|             150.0|[8.0,3436.0,150.0...|[4.67246152320771...|\n",
      "|16.0|      8.0|       304.0|     150.0|3433.0|        12.0|     70.0|     amc rebel sst\"\"|              16.0|             150.0|[8.0,3433.0,150.0...|[4.67246152320771...|\n",
      "|17.0|      8.0|       302.0|     140.0|3449.0|        10.5|     70.0|       ford torino\"\"|              17.0|             140.0|[8.0,3449.0,140.0...|[4.67246152320771...|\n",
      "|15.0|      8.0|       429.0|      null|4341.0|        10.0|     70.0|  ford galaxie 500\"\"|              15.0|104.56675062972292|[8.0,4341.0,104.5...|[4.67246152320771...|\n",
      "|14.0|      8.0|       454.0|     220.0|4354.0|         9.0|     70.0|  chevrolet impala\"\"|              14.0|             220.0|[8.0,4354.0,220.0...|[4.67246152320771...|\n",
      "|14.0|      8.0|       440.0|     215.0|4312.0|         8.5|     70.0| plymouth fury iii\"\"|              14.0|             215.0|[8.0,4312.0,215.0...|[4.67246152320771...|\n",
      "|14.0|      8.0|       455.0|      null|4425.0|        10.0|     70.0|  pontiac catalina\"\"|              14.0|104.56675062972292|[8.0,4425.0,104.5...|[4.67246152320771...|\n",
      "|15.0|      8.0|       390.0|     190.0|3850.0|         8.5|     70.0|amc ambassador dpl\"\"|              15.0|             190.0|[8.0,3850.0,190.0...|[4.67246152320771...|\n",
      "|null|      4.0|       133.0|     115.0|3090.0|        17.5|     70.0|citroen ds-21 pal...|23.514572864321615|             115.0|[4.0,3090.0,115.0...|[2.33623076160385...|\n",
      "|null|      8.0|       350.0|     165.0|4142.0|        11.5|     70.0|chevrolet chevell...|23.514572864321615|             165.0|[8.0,4142.0,165.0...|[4.67246152320771...|\n",
      "|null|      8.0|       351.0|     153.0|4034.0|        11.0|     70.0|  ford torino (sw)\"\"|23.514572864321615|             153.0|[8.0,4034.0,153.0...|[4.67246152320771...|\n",
      "|null|      8.0|       383.0|     175.0|4166.0|        10.5|     70.0|plymouth satellit...|23.514572864321615|             175.0|[8.0,4166.0,175.0...|[4.67246152320771...|\n",
      "|null|      8.0|       360.0|     175.0|3850.0|        11.0|     70.0|amc rebel sst (sw)\"\"|23.514572864321615|             175.0|[8.0,3850.0,175.0...|[4.67246152320771...|\n",
      "|15.0|      8.0|       383.0|     170.0|3563.0|        10.0|     70.0|dodge challenger ...|              15.0|             170.0|[8.0,3563.0,170.0...|[4.67246152320771...|\n",
      "|14.0|      8.0|       340.0|     160.0|3609.0|         8.0|     70.0|plymouth 'cuda 340\"\"|              14.0|             160.0|[8.0,3609.0,160.0...|[4.67246152320771...|\n",
      "|null|      8.0|       302.0|     140.0|3353.0|         8.0|     70.0|ford mustang boss...|23.514572864321615|             140.0|[8.0,3353.0,140.0...|[4.67246152320771...|\n",
      "|15.0|      8.0|       400.0|     150.0|3761.0|         9.5|     70.0|chevrolet monte c...|              15.0|             150.0|[8.0,3761.0,150.0...|[4.67246152320771...|\n",
      "|14.0|      8.0|       455.0|     225.0|3086.0|        10.0|     70.0|buick estate wago...|              14.0|             225.0|[8.0,3086.0,225.0...|[4.67246152320771...|\n",
      "+----+---------+------------+----------+------+------------+---------+--------------------+------------------+------------------+--------------------+--------------------+\n",
      "only showing top 20 rows\n",
      "\n"
     ]
    }
   ],
   "source": [
    "#Output of the pipeline\n",
    "\n",
    "Final_output.show()"
   ]
  },
  {
   "cell_type": "markdown",
   "metadata": {},
   "source": [
    "### Earlier you performed EDA activities using the MPG dataset. As a next step build a Linear Regression Model to predict the mileage (miles per gallon) of car given various other characteristics."
   ]
  },
  {
   "cell_type": "markdown",
   "metadata": {},
   "source": [
    "Question 1\n",
    "\n",
    "What is the r2 score of the model built after the imputing and scaling the dataset?\n",
    "\n"
   ]
  },
  {
   "cell_type": "code",
   "execution_count": 31,
   "metadata": {},
   "outputs": [
    {
     "name": "stdout",
     "output_type": "stream",
     "text": [
      "+-----+--------------------+\n",
      "|label|            features|\n",
      "+-----+--------------------+\n",
      "| 18.0|[4.67246152320771...|\n",
      "| 15.0|[4.67246152320771...|\n",
      "| 18.0|[4.67246152320771...|\n",
      "| 16.0|[4.67246152320771...|\n",
      "| 17.0|[4.67246152320771...|\n",
      "| 15.0|[4.67246152320771...|\n",
      "| 14.0|[4.67246152320771...|\n",
      "| 14.0|[4.67246152320771...|\n",
      "| 14.0|[4.67246152320771...|\n",
      "| 15.0|[4.67246152320771...|\n",
      "+-----+--------------------+\n",
      "only showing top 10 rows\n",
      "\n"
     ]
    }
   ],
   "source": [
    "# Use the transformed dataframe to create our input data \n",
    "model_data = Final_output.select(['MPG-Out','scaledFeatures'])\n",
    "model_data = model_data.withColumnRenamed(\"MPG-Out\", \"label\")\n",
    "model_data = model_data.withColumnRenamed(\"scaledFeatures\", \"features\")\n",
    "model_data.show(10)"
   ]
  },
  {
   "cell_type": "code",
   "execution_count": 32,
   "metadata": {},
   "outputs": [],
   "source": [
    "training, test = model_data.randomSplit([.7, .3])"
   ]
  },
  {
   "cell_type": "code",
   "execution_count": 36,
   "metadata": {},
   "outputs": [
    {
     "name": "stderr",
     "output_type": "stream",
     "text": [
      "23/08/07 10:24:51 WARN Instrumentation: [09033a10] regParam is zero, which might cause numerical instability and overfitting.\n"
     ]
    },
    {
     "data": {
      "text/plain": [
       "LinearRegressionModel: uid=LinearRegression_870e431440f4, numFeatures=4"
      ]
     },
     "execution_count": 36,
     "metadata": {},
     "output_type": "execute_result"
    }
   ],
   "source": [
    "#Build a linear regression model\n",
    "from pyspark.ml.regression import LinearRegression\n",
    "lr = LinearRegression(featuresCol='features', labelCol='label')\n",
    "model = lr.fit(training)\n",
    "model"
   ]
  },
  {
   "cell_type": "code",
   "execution_count": 37,
   "metadata": {},
   "outputs": [
    {
     "name": "stdout",
     "output_type": "stream",
     "text": [
      "R2 Score: 0.6957558222782425\n"
     ]
    }
   ],
   "source": [
    "from pyspark.ml.evaluation import RegressionEvaluator\n",
    "#Find the r2 score of the model\n",
    "# Make predictions on the test data\n",
    "predictions = model.transform(test)\n",
    "\n",
    "# Evaluate the model using R-squared\n",
    "evaluator = RegressionEvaluator(labelCol='label', predictionCol='prediction', metricName='r2')\n",
    "r2_score = evaluator.evaluate(predictions)\n",
    "\n",
    "print(\"R2 Score:\", r2_score)"
   ]
  },
  {
   "cell_type": "markdown",
   "metadata": {},
   "source": [
    "Question 2\n",
    "\n",
    "What is the r2 score of the model built without performing scaling? [Built a model that considers only imputation]\n",
    "\n"
   ]
  },
  {
   "cell_type": "code",
   "execution_count": 38,
   "metadata": {},
   "outputs": [],
   "source": [
    "#Initialize a new dataframe\n",
    "data = df1"
   ]
  },
  {
   "cell_type": "code",
   "execution_count": 39,
   "metadata": {},
   "outputs": [],
   "source": [
    "#import Pipeline and set the stages of the pipeline\n",
    "from pyspark.ml import Pipeline\n",
    "pipeline =  Pipeline(stages = [imputer,assembler])"
   ]
  },
  {
   "cell_type": "code",
   "execution_count": 40,
   "metadata": {},
   "outputs": [
    {
     "name": "stdout",
     "output_type": "stream",
     "text": [
      "+----+---------+------------+----------+------+------------+---------+--------------------+-------+------------------+--------------------+\n",
      "| MPG|CYLINDERS|DISPLACEMENT|HORSEPOWER|WEIGHT|ACCELERATION|MODELYEAR|                NAME|MPG-Out|    HORSEPOWER-Out|            features|\n",
      "+----+---------+------------+----------+------+------------+---------+--------------------+-------+------------------+--------------------+\n",
      "|18.0|      8.0|       307.0|     130.0|3504.0|        12.0|     70.0|chevrolet chevell...|   18.0|             130.0|[8.0,3504.0,130.0...|\n",
      "|15.0|      8.0|       350.0|     165.0|3693.0|        11.5|     70.0| buick skylark 320\"\"|   15.0|             165.0|[8.0,3693.0,165.0...|\n",
      "|18.0|      8.0|       318.0|     150.0|3436.0|        11.0|     70.0|plymouth satellite\"\"|   18.0|             150.0|[8.0,3436.0,150.0...|\n",
      "|16.0|      8.0|       304.0|     150.0|3433.0|        12.0|     70.0|     amc rebel sst\"\"|   16.0|             150.0|[8.0,3433.0,150.0...|\n",
      "|17.0|      8.0|       302.0|     140.0|3449.0|        10.5|     70.0|       ford torino\"\"|   17.0|             140.0|[8.0,3449.0,140.0...|\n",
      "|15.0|      8.0|       429.0|      null|4341.0|        10.0|     70.0|  ford galaxie 500\"\"|   15.0|104.56675062972292|[8.0,4341.0,104.5...|\n",
      "|14.0|      8.0|       454.0|     220.0|4354.0|         9.0|     70.0|  chevrolet impala\"\"|   14.0|             220.0|[8.0,4354.0,220.0...|\n",
      "|14.0|      8.0|       440.0|     215.0|4312.0|         8.5|     70.0| plymouth fury iii\"\"|   14.0|             215.0|[8.0,4312.0,215.0...|\n",
      "|14.0|      8.0|       455.0|      null|4425.0|        10.0|     70.0|  pontiac catalina\"\"|   14.0|104.56675062972292|[8.0,4425.0,104.5...|\n",
      "|15.0|      8.0|       390.0|     190.0|3850.0|         8.5|     70.0|amc ambassador dpl\"\"|   15.0|             190.0|[8.0,3850.0,190.0...|\n",
      "+----+---------+------------+----------+------+------------+---------+--------------------+-------+------------------+--------------------+\n",
      "only showing top 10 rows\n",
      "\n"
     ]
    }
   ],
   "source": [
    "#Use .fit() and .transform() on the pipeline\n",
    "model = pipeline.fit(data)\n",
    "Final_output = model.transform(data)\n",
    "Final_output.show(10)"
   ]
  },
  {
   "cell_type": "code",
   "execution_count": 41,
   "metadata": {},
   "outputs": [
    {
     "name": "stdout",
     "output_type": "stream",
     "text": [
      "+-----+--------------------+\n",
      "|label|            features|\n",
      "+-----+--------------------+\n",
      "| 18.0|[8.0,3504.0,130.0...|\n",
      "| 15.0|[8.0,3693.0,165.0...|\n",
      "| 18.0|[8.0,3436.0,150.0...|\n",
      "| 16.0|[8.0,3433.0,150.0...|\n",
      "| 17.0|[8.0,3449.0,140.0...|\n",
      "| 15.0|[8.0,4341.0,104.5...|\n",
      "| 14.0|[8.0,4354.0,220.0...|\n",
      "| 14.0|[8.0,4312.0,215.0...|\n",
      "| 14.0|[8.0,4425.0,104.5...|\n",
      "| 15.0|[8.0,3850.0,190.0...|\n",
      "+-----+--------------------+\n",
      "only showing top 10 rows\n",
      "\n"
     ]
    }
   ],
   "source": [
    "# Use the transformed dataframe to create our input data \n",
    "model_data = Final_output.select(['MPG-Out','features'])\n",
    "model_data = model_data.withColumnRenamed(\"MPG-Out\", \"label\")\n",
    "model_data.show(10)"
   ]
  },
  {
   "cell_type": "code",
   "execution_count": 42,
   "metadata": {},
   "outputs": [
    {
     "name": "stderr",
     "output_type": "stream",
     "text": [
      "23/08/07 10:33:10 WARN Instrumentation: [f1a49c05] regParam is zero, which might cause numerical instability and overfitting.\n"
     ]
    },
    {
     "data": {
      "text/plain": [
       "LinearRegressionModel: uid=LinearRegression_f8d404c03589, numFeatures=4"
      ]
     },
     "execution_count": 42,
     "metadata": {},
     "output_type": "execute_result"
    }
   ],
   "source": [
    "#Build a new linear regression model\n",
    "\n",
    "training, test = model_data.randomSplit([.7, .3])\n",
    "\n",
    "from pyspark.ml.regression import LinearRegression\n",
    "lr = LinearRegression(featuresCol='features', labelCol='label')\n",
    "model = lr.fit(training)\n",
    "model"
   ]
  },
  {
   "cell_type": "code",
   "execution_count": 43,
   "metadata": {},
   "outputs": [
    {
     "name": "stdout",
     "output_type": "stream",
     "text": [
      "R2 Score: 0.6707018120730233\n"
     ]
    }
   ],
   "source": [
    "#Find the r2 score of the model\n",
    "\n",
    "\n",
    "from pyspark.ml.evaluation import RegressionEvaluator\n",
    "# Make predictions on the test data\n",
    "predictions = model.transform(test)\n",
    "\n",
    "# Evaluate the model using R-squared\n",
    "evaluator = RegressionEvaluator(labelCol='label', predictionCol='prediction', metricName='r2')\n",
    "r2_score = evaluator.evaluate(predictions)\n",
    "\n",
    "print(\"R2 Score:\", r2_score)"
   ]
  },
  {
   "cell_type": "code",
   "execution_count": null,
   "metadata": {},
   "outputs": [],
   "source": []
  }
 ],
 "metadata": {
  "kernelspec": {
   "display_name": "Python 3",
   "language": "python",
   "name": "python3"
  },
  "language_info": {
   "codemirror_mode": {
    "name": "ipython",
    "version": 3
   },
   "file_extension": ".py",
   "mimetype": "text/x-python",
   "name": "python",
   "nbconvert_exporter": "python",
   "pygments_lexer": "ipython3",
   "version": "3.11.4"
  }
 },
 "nbformat": 4,
 "nbformat_minor": 4
}
