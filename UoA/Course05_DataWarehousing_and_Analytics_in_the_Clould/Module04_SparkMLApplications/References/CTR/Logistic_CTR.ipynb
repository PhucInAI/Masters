{
 "cells": [
  {
   "cell_type": "markdown",
   "metadata": {},
   "source": [
    "# EDA"
   ]
  },
  {
   "cell_type": "code",
   "execution_count": 3,
   "metadata": {},
   "outputs": [],
   "source": [
    "from pyspark.sql import SparkSession"
   ]
  },
  {
   "cell_type": "code",
   "execution_count": 4,
   "metadata": {},
   "outputs": [
    {
     "name": "stderr",
     "output_type": "stream",
     "text": [
      "23/08/05 22:27:13 WARN Utils: Your hostname, ptn-PC resolves to a loopback address: 127.0.1.1; using 192.168.1.100 instead (on interface wlx30de4b211ef8)\n",
      "23/08/05 22:27:13 WARN Utils: Set SPARK_LOCAL_IP if you need to bind to another address\n",
      "Setting default log level to \"WARN\".\n",
      "To adjust logging level use sc.setLogLevel(newLevel). For SparkR, use setLogLevel(newLevel).\n",
      "23/08/05 22:27:13 WARN NativeCodeLoader: Unable to load native-hadoop library for your platform... using builtin-java classes where applicable\n"
     ]
    }
   ],
   "source": [
    "# Create Spark Session\n",
    "spark = SparkSession.builder \\\n",
    "                    .appName('CTR')\\\n",
    "                    .getOrCreate()"
   ]
  },
  {
   "cell_type": "markdown",
   "metadata": {},
   "source": [
    "### Load Data"
   ]
  },
  {
   "cell_type": "code",
   "execution_count": 5,
   "metadata": {},
   "outputs": [
    {
     "name": "stderr",
     "output_type": "stream",
     "text": [
      "                                                                                \r"
     ]
    }
   ],
   "source": [
    "#Upload the dataset in your s3 bucket.\n",
    "#Moidfy this command according to your s3 bucket.\n",
    "df = spark.read.csv('./ctr_traindata2.csv', header=True, inferSchema=True)"
   ]
  },
  {
   "cell_type": "code",
   "execution_count": 6,
   "metadata": {},
   "outputs": [
    {
     "data": {
      "text/plain": [
       "DataFrame[id: decimal(20,0), click: int, hour: int, C1: int, banner_pos: int, site_id: string, site_domain: string, site_category: string, app_id: string, app_domain: string, app_category: string, device_id: string, device_ip: string, device_model: string, device_type: int, device_conn_type: int, C14: int, C15: int, C16: int, C17: int, C18: int, C19: int, C20: int, C21: int]"
      ]
     },
     "execution_count": 6,
     "metadata": {},
     "output_type": "execute_result"
    }
   ],
   "source": [
    "df"
   ]
  },
  {
   "cell_type": "code",
   "execution_count": 7,
   "metadata": {},
   "outputs": [
    {
     "name": "stdout",
     "output_type": "stream",
     "text": [
      "+--------------------+-----+--------+----+----------+--------+-----------+-------------+--------+----------+------------+---------+---------+------------+-----------+----------------+-----+---+---+----+---+---+------+---+\n",
      "|                  id|click|    hour|  C1|banner_pos| site_id|site_domain|site_category|  app_id|app_domain|app_category|device_id|device_ip|device_model|device_type|device_conn_type|  C14|C15|C16| C17|C18|C19|   C20|C21|\n",
      "+--------------------+-----+--------+----+----------+--------+-----------+-------------+--------+----------+------------+---------+---------+------------+-----------+----------------+-----+---+---+----+---+---+------+---+\n",
      "| 1000009418151094273|    0|14102100|1005|         0|1fbe01fe|   f3845767|     28905ebd|ecad2386|  7801e8d9|    07d7df22| a99f214a| ddd2926e|    44956a24|          1|               2|15706|320| 50|1722|  0| 35|    -1| 79|\n",
      "|10000169349117863715|    0|14102100|1005|         0|1fbe01fe|   f3845767|     28905ebd|ecad2386|  7801e8d9|    07d7df22| a99f214a| 96809ac8|    711ee120|          1|               0|15704|320| 50|1722|  0| 35|100084| 79|\n",
      "|10000371904215119486|    0|14102100|1005|         0|1fbe01fe|   f3845767|     28905ebd|ecad2386|  7801e8d9|    07d7df22| a99f214a| b3cf8def|    8a4875bd|          1|               0|15704|320| 50|1722|  0| 35|100084| 79|\n",
      "|10000640724480838376|    0|14102100|1005|         0|1fbe01fe|   f3845767|     28905ebd|ecad2386|  7801e8d9|    07d7df22| a99f214a| e8275b8f|    6332421a|          1|               0|15706|320| 50|1722|  0| 35|100084| 79|\n",
      "|10000679056417042096|    0|14102100|1005|         1|fe8cc448|   9166c161|     0569f928|ecad2386|  7801e8d9|    07d7df22| a99f214a| 9644d0bf|    779d90c2|          1|               0|18993|320| 50|2161|  0| 35|    -1|157|\n",
      "|10000720757801103869|    0|14102100|1005|         0|d6137915|   bb1ef334|     f028772b|ecad2386|  7801e8d9|    07d7df22| a99f214a| 05241af0|    8a4875bd|          1|               0|16920|320| 50|1899|  0|431|100077|117|\n",
      "|10000724729988544911|    0|14102100|1005|         0|8fda644b|   25d4cfcd|     f028772b|ecad2386|  7801e8d9|    07d7df22| a99f214a| b264c159|    be6db1d7|          1|               0|20362|320| 50|2333|  0| 39|    -1|157|\n",
      "|10000918755742328737|    0|14102100|1005|         1|e151e245|   7e091613|     f028772b|ecad2386|  7801e8d9|    07d7df22| a99f214a| e6f67278|    be74e6fe|          1|               0|20632|320| 50|2374|  3| 39|    -1| 23|\n",
      "|10000949271186029916|    1|14102100|1005|         0|1fbe01fe|   f3845767|     28905ebd|ecad2386|  7801e8d9|    07d7df22| a99f214a| 37e8da74|    5db079b5|          1|               2|15707|320| 50|1722|  0| 35|    -1| 79|\n",
      "|10001264480619467364|    0|14102100|1002|         0|84c7ba46|   c4e18dd6|     50e219e0|ecad2386|  7801e8d9|    07d7df22| c357dbff| f1ac7184|    373ecbe6|          0|               0|21689|320| 50|2496|  3|167|100191| 23|\n",
      "+--------------------+-----+--------+----+----------+--------+-----------+-------------+--------+----------+------------+---------+---------+------------+-----------+----------------+-----+---+---+----+---+---+------+---+\n",
      "only showing top 10 rows\n",
      "\n"
     ]
    }
   ],
   "source": [
    "df.show(10)"
   ]
  },
  {
   "cell_type": "code",
   "execution_count": 8,
   "metadata": {},
   "outputs": [
    {
     "name": "stdout",
     "output_type": "stream",
     "text": [
      "root\n",
      " |-- id: decimal(20,0) (nullable = true)\n",
      " |-- click: integer (nullable = true)\n",
      " |-- hour: integer (nullable = true)\n",
      " |-- C1: integer (nullable = true)\n",
      " |-- banner_pos: integer (nullable = true)\n",
      " |-- site_id: string (nullable = true)\n",
      " |-- site_domain: string (nullable = true)\n",
      " |-- site_category: string (nullable = true)\n",
      " |-- app_id: string (nullable = true)\n",
      " |-- app_domain: string (nullable = true)\n",
      " |-- app_category: string (nullable = true)\n",
      " |-- device_id: string (nullable = true)\n",
      " |-- device_ip: string (nullable = true)\n",
      " |-- device_model: string (nullable = true)\n",
      " |-- device_type: integer (nullable = true)\n",
      " |-- device_conn_type: integer (nullable = true)\n",
      " |-- C14: integer (nullable = true)\n",
      " |-- C15: integer (nullable = true)\n",
      " |-- C16: integer (nullable = true)\n",
      " |-- C17: integer (nullable = true)\n",
      " |-- C18: integer (nullable = true)\n",
      " |-- C19: integer (nullable = true)\n",
      " |-- C20: integer (nullable = true)\n",
      " |-- C21: integer (nullable = true)\n",
      "\n"
     ]
    }
   ],
   "source": [
    "df.printSchema()"
   ]
  },
  {
   "cell_type": "code",
   "execution_count": 9,
   "metadata": {
    "scrolled": false
   },
   "outputs": [
    {
     "data": {
      "text/plain": [
       "['id',\n",
       " 'click',\n",
       " 'hour',\n",
       " 'C1',\n",
       " 'banner_pos',\n",
       " 'site_id',\n",
       " 'site_domain',\n",
       " 'site_category',\n",
       " 'app_id',\n",
       " 'app_domain',\n",
       " 'app_category',\n",
       " 'device_id',\n",
       " 'device_ip',\n",
       " 'device_model',\n",
       " 'device_type',\n",
       " 'device_conn_type',\n",
       " 'C14',\n",
       " 'C15',\n",
       " 'C16',\n",
       " 'C17',\n",
       " 'C18',\n",
       " 'C19',\n",
       " 'C20',\n",
       " 'C21']"
      ]
     },
     "execution_count": 9,
     "metadata": {},
     "output_type": "execute_result"
    }
   ],
   "source": [
    "df.columns"
   ]
  },
  {
   "cell_type": "code",
   "execution_count": 10,
   "metadata": {},
   "outputs": [
    {
     "data": {
      "text/plain": [
       "[Row(id=Decimal('1000009418151094273'), click=0, hour=14102100, C1=1005, banner_pos=0, site_id='1fbe01fe', site_domain='f3845767', site_category='28905ebd', app_id='ecad2386', app_domain='7801e8d9', app_category='07d7df22', device_id='a99f214a', device_ip='ddd2926e', device_model='44956a24', device_type=1, device_conn_type=2, C14=15706, C15=320, C16=50, C17=1722, C18=0, C19=35, C20=-1, C21=79),\n",
       " Row(id=Decimal('10000169349117863715'), click=0, hour=14102100, C1=1005, banner_pos=0, site_id='1fbe01fe', site_domain='f3845767', site_category='28905ebd', app_id='ecad2386', app_domain='7801e8d9', app_category='07d7df22', device_id='a99f214a', device_ip='96809ac8', device_model='711ee120', device_type=1, device_conn_type=0, C14=15704, C15=320, C16=50, C17=1722, C18=0, C19=35, C20=100084, C21=79),\n",
       " Row(id=Decimal('10000371904215119486'), click=0, hour=14102100, C1=1005, banner_pos=0, site_id='1fbe01fe', site_domain='f3845767', site_category='28905ebd', app_id='ecad2386', app_domain='7801e8d9', app_category='07d7df22', device_id='a99f214a', device_ip='b3cf8def', device_model='8a4875bd', device_type=1, device_conn_type=0, C14=15704, C15=320, C16=50, C17=1722, C18=0, C19=35, C20=100084, C21=79),\n",
       " Row(id=Decimal('10000640724480838376'), click=0, hour=14102100, C1=1005, banner_pos=0, site_id='1fbe01fe', site_domain='f3845767', site_category='28905ebd', app_id='ecad2386', app_domain='7801e8d9', app_category='07d7df22', device_id='a99f214a', device_ip='e8275b8f', device_model='6332421a', device_type=1, device_conn_type=0, C14=15706, C15=320, C16=50, C17=1722, C18=0, C19=35, C20=100084, C21=79),\n",
       " Row(id=Decimal('10000679056417042096'), click=0, hour=14102100, C1=1005, banner_pos=1, site_id='fe8cc448', site_domain='9166c161', site_category='0569f928', app_id='ecad2386', app_domain='7801e8d9', app_category='07d7df22', device_id='a99f214a', device_ip='9644d0bf', device_model='779d90c2', device_type=1, device_conn_type=0, C14=18993, C15=320, C16=50, C17=2161, C18=0, C19=35, C20=-1, C21=157)]"
      ]
     },
     "execution_count": 10,
     "metadata": {},
     "output_type": "execute_result"
    }
   ],
   "source": [
    "df.head(5)"
   ]
  },
  {
   "cell_type": "markdown",
   "metadata": {},
   "source": [
    "### Removing Columns which are String & not required"
   ]
  },
  {
   "cell_type": "code",
   "execution_count": 11,
   "metadata": {},
   "outputs": [],
   "source": [
    "df_selected = df.select(['click', 'C1', 'banner_pos', 'device_type', 'device_conn_type', 'C14', 'C15', 'C16', 'C17', 'C18', 'C19', 'C20', 'C21'])"
   ]
  },
  {
   "cell_type": "code",
   "execution_count": 12,
   "metadata": {},
   "outputs": [
    {
     "data": {
      "text/plain": [
       "Row(click=0, C1=1005, banner_pos=0, device_type=1, device_conn_type=2, C14=15706, C15=320, C16=50, C17=1722, C18=0, C19=35, C20=-1, C21=79)"
      ]
     },
     "execution_count": 12,
     "metadata": {},
     "output_type": "execute_result"
    }
   ],
   "source": [
    "df_selected.head()"
   ]
  },
  {
   "cell_type": "code",
   "execution_count": 13,
   "metadata": {},
   "outputs": [
    {
     "name": "stdout",
     "output_type": "stream",
     "text": [
      "+-----+----+----------+-----------+----------------+-----+---+---+----+---+---+------+---+\n",
      "|click|  C1|banner_pos|device_type|device_conn_type|  C14|C15|C16| C17|C18|C19|   C20|C21|\n",
      "+-----+----+----------+-----------+----------------+-----+---+---+----+---+---+------+---+\n",
      "|    0|1005|         0|          1|               2|15706|320| 50|1722|  0| 35|    -1| 79|\n",
      "|    0|1005|         0|          1|               0|15704|320| 50|1722|  0| 35|100084| 79|\n",
      "|    0|1005|         0|          1|               0|15704|320| 50|1722|  0| 35|100084| 79|\n",
      "|    0|1005|         0|          1|               0|15706|320| 50|1722|  0| 35|100084| 79|\n",
      "|    0|1005|         1|          1|               0|18993|320| 50|2161|  0| 35|    -1|157|\n",
      "|    0|1005|         0|          1|               0|16920|320| 50|1899|  0|431|100077|117|\n",
      "|    0|1005|         0|          1|               0|20362|320| 50|2333|  0| 39|    -1|157|\n",
      "|    0|1005|         1|          1|               0|20632|320| 50|2374|  3| 39|    -1| 23|\n",
      "|    1|1005|         0|          1|               2|15707|320| 50|1722|  0| 35|    -1| 79|\n",
      "|    0|1002|         0|          0|               0|21689|320| 50|2496|  3|167|100191| 23|\n",
      "+-----+----+----------+-----------+----------------+-----+---+---+----+---+---+------+---+\n",
      "only showing top 10 rows\n",
      "\n"
     ]
    }
   ],
   "source": [
    "df_selected.show(10)"
   ]
  },
  {
   "cell_type": "code",
   "execution_count": 14,
   "metadata": {},
   "outputs": [
    {
     "name": "stdout",
     "output_type": "stream",
     "text": [
      "+-----+\n",
      "|click|\n",
      "+-----+\n",
      "|    1|\n",
      "|    0|\n",
      "+-----+\n",
      "\n"
     ]
    }
   ],
   "source": [
    "df_selected.select(\"click\").distinct().show()"
   ]
  },
  {
   "cell_type": "code",
   "execution_count": 15,
   "metadata": {},
   "outputs": [
    {
     "name": "stdout",
     "output_type": "stream",
     "text": [
      "+-----+\n",
      "|  C14|\n",
      "+-----+\n",
      "|17753|\n",
      "|20382|\n",
      "|21700|\n",
      "|20135|\n",
      "|  463|\n",
      "| 6397|\n",
      "|20596|\n",
      "| 6393|\n",
      "|19878|\n",
      "|12471|\n",
      "| 6559|\n",
      "| 1270|\n",
      "|21633|\n",
      "|20170|\n",
      "|21296|\n",
      "| 6361|\n",
      "|21412|\n",
      "|21675|\n",
      "|21484|\n",
      "| 6557|\n",
      "+-----+\n",
      "only showing top 20 rows\n",
      "\n"
     ]
    }
   ],
   "source": [
    "df_selected.select(\"C14\").distinct().show()"
   ]
  },
  {
   "cell_type": "code",
   "execution_count": 16,
   "metadata": {},
   "outputs": [
    {
     "name": "stdout",
     "output_type": "stream",
     "text": [
      "+-----+-----+\n",
      "|click|count|\n",
      "+-----+-----+\n",
      "|    1|17490|\n",
      "|    0|82509|\n",
      "+-----+-----+\n",
      "\n"
     ]
    }
   ],
   "source": [
    "df_selected.groupby('click').count().show()"
   ]
  },
  {
   "cell_type": "code",
   "execution_count": 17,
   "metadata": {},
   "outputs": [],
   "source": [
    "from pyspark.sql.functions import col, countDistinct"
   ]
  },
  {
   "cell_type": "code",
   "execution_count": 18,
   "metadata": {},
   "outputs": [
    {
     "name": "stdout",
     "output_type": "stream",
     "text": [
      "+------------+\n",
      "|count(click)|\n",
      "+------------+\n",
      "|           2|\n",
      "+------------+\n",
      "\n"
     ]
    }
   ],
   "source": [
    "df_selected.agg(countDistinct(\"click\")).show()"
   ]
  },
  {
   "cell_type": "code",
   "execution_count": 19,
   "metadata": {},
   "outputs": [
    {
     "name": "stdout",
     "output_type": "stream",
     "text": [
      "+----------+\n",
      "|count(C14)|\n",
      "+----------+\n",
      "|       420|\n",
      "+----------+\n",
      "\n"
     ]
    }
   ],
   "source": [
    "df_selected.agg(countDistinct(\"C14\")).show()"
   ]
  },
  {
   "cell_type": "code",
   "execution_count": 20,
   "metadata": {},
   "outputs": [
    {
     "data": {
      "text/plain": [
       "['click',\n",
       " 'C1',\n",
       " 'banner_pos',\n",
       " 'device_type',\n",
       " 'device_conn_type',\n",
       " 'C14',\n",
       " 'C15',\n",
       " 'C16',\n",
       " 'C17',\n",
       " 'C18',\n",
       " 'C19',\n",
       " 'C20',\n",
       " 'C21']"
      ]
     },
     "execution_count": 20,
     "metadata": {},
     "output_type": "execute_result"
    }
   ],
   "source": [
    "df_selected.columns"
   ]
  },
  {
   "cell_type": "code",
   "execution_count": 21,
   "metadata": {},
   "outputs": [
    {
     "name": "stdout",
     "output_type": "stream",
     "text": [
      "click\n",
      "C1\n",
      "banner_pos\n",
      "device_type\n",
      "device_conn_type\n",
      "C14\n",
      "C15\n",
      "C16\n",
      "C17\n",
      "C18\n",
      "C19\n",
      "C20\n",
      "C21\n"
     ]
    }
   ],
   "source": [
    "for c in df_selected.columns:\n",
    "    print(c)\n",
    "    "
   ]
  },
  {
   "cell_type": "markdown",
   "metadata": {},
   "source": [
    "### Get Distinct Count of Categorical Features"
   ]
  },
  {
   "cell_type": "code",
   "execution_count": 22,
   "metadata": {},
   "outputs": [
    {
     "name": "stdout",
     "output_type": "stream",
     "text": [
      "+-----+---+----------+-----------+----------------+---+---+---+---+---+---+---+---+\n",
      "|click| C1|banner_pos|device_type|device_conn_type|C14|C15|C16|C17|C18|C19|C20|C21|\n",
      "+-----+---+----------+-----------+----------------+---+---+---+---+---+---+---+---+\n",
      "|    2|  6|         5|          4|               4|420|  5|  6|128|  4| 37|137| 29|\n",
      "+-----+---+----------+-----------+----------------+---+---+---+---+---+---+---+---+\n",
      "\n"
     ]
    }
   ],
   "source": [
    "df_selected.agg(*(countDistinct(col(c)).alias(c) for c in df_selected.columns)).show()"
   ]
  },
  {
   "cell_type": "markdown",
   "metadata": {},
   "source": [
    "### Avoid features which are having huge distinct count, Since that many columns will be created while One Hot Encoding"
   ]
  },
  {
   "cell_type": "code",
   "execution_count": 23,
   "metadata": {},
   "outputs": [],
   "source": [
    "df_filtered = df_selected.select(['click', 'C1', 'banner_pos', 'device_type', 'device_conn_type', 'C15', 'C16', 'C18'])"
   ]
  },
  {
   "cell_type": "code",
   "execution_count": 24,
   "metadata": {},
   "outputs": [
    {
     "name": "stdout",
     "output_type": "stream",
     "text": [
      "+-----+----+----------+-----------+----------------+---+---+---+\n",
      "|click|  C1|banner_pos|device_type|device_conn_type|C15|C16|C18|\n",
      "+-----+----+----------+-----------+----------------+---+---+---+\n",
      "|    0|1005|         0|          1|               2|320| 50|  0|\n",
      "|    0|1005|         0|          1|               0|320| 50|  0|\n",
      "|    0|1005|         0|          1|               0|320| 50|  0|\n",
      "|    0|1005|         0|          1|               0|320| 50|  0|\n",
      "|    0|1005|         1|          1|               0|320| 50|  0|\n",
      "|    0|1005|         0|          1|               0|320| 50|  0|\n",
      "|    0|1005|         0|          1|               0|320| 50|  0|\n",
      "|    0|1005|         1|          1|               0|320| 50|  3|\n",
      "|    1|1005|         0|          1|               2|320| 50|  0|\n",
      "|    0|1002|         0|          0|               0|320| 50|  3|\n",
      "+-----+----+----------+-----------+----------------+---+---+---+\n",
      "only showing top 10 rows\n",
      "\n"
     ]
    }
   ],
   "source": [
    "df_filtered.show(10)"
   ]
  },
  {
   "cell_type": "code",
   "execution_count": 25,
   "metadata": {},
   "outputs": [
    {
     "name": "stdout",
     "output_type": "stream",
     "text": [
      "+-----+---+----------+-----------+----------------+---+---+---+\n",
      "|click| C1|banner_pos|device_type|device_conn_type|C15|C16|C18|\n",
      "+-----+---+----------+-----------+----------------+---+---+---+\n",
      "|    2|  6|         5|          4|               4|  5|  6|  4|\n",
      "+-----+---+----------+-----------+----------------+---+---+---+\n",
      "\n"
     ]
    }
   ],
   "source": [
    "df_filtered.agg(*(countDistinct(col(c)).alias(c) for c in df_filtered.columns)).show()"
   ]
  },
  {
   "cell_type": "code",
   "execution_count": 26,
   "metadata": {},
   "outputs": [
    {
     "name": "stdout",
     "output_type": "stream",
     "text": [
      "root\n",
      " |-- click: integer (nullable = true)\n",
      " |-- C1: integer (nullable = true)\n",
      " |-- banner_pos: integer (nullable = true)\n",
      " |-- device_type: integer (nullable = true)\n",
      " |-- device_conn_type: integer (nullable = true)\n",
      " |-- C15: integer (nullable = true)\n",
      " |-- C16: integer (nullable = true)\n",
      " |-- C18: integer (nullable = true)\n",
      "\n"
     ]
    }
   ],
   "source": [
    "df_filtered.printSchema()"
   ]
  },
  {
   "cell_type": "code",
   "execution_count": 27,
   "metadata": {},
   "outputs": [
    {
     "data": {
      "text/plain": [
       "['click',\n",
       " 'C1',\n",
       " 'banner_pos',\n",
       " 'device_type',\n",
       " 'device_conn_type',\n",
       " 'C15',\n",
       " 'C16',\n",
       " 'C18']"
      ]
     },
     "execution_count": 27,
     "metadata": {},
     "output_type": "execute_result"
    }
   ],
   "source": [
    "df_filtered.columns"
   ]
  },
  {
   "cell_type": "markdown",
   "metadata": {},
   "source": [
    "# Data Preparation"
   ]
  },
  {
   "cell_type": "markdown",
   "metadata": {},
   "source": [
    "### No String, All Integer columns, So String Indexer not required, we can directly go for one-hot encoding"
   ]
  },
  {
   "cell_type": "markdown",
   "metadata": {},
   "source": [
    "### One hot encoding"
   ]
  },
  {
   "cell_type": "code",
   "execution_count": 32,
   "metadata": {},
   "outputs": [],
   "source": [
    "from pyspark.ml import Pipeline\n",
    "from pyspark.ml.feature import VectorAssembler, StringIndexer, OneHotEncoder"
   ]
  },
  {
   "cell_type": "code",
   "execution_count": 33,
   "metadata": {},
   "outputs": [],
   "source": [
    "OHE = OneHotEncoder(inputCols=['C1', 'banner_pos', 'device_type', 'device_conn_type', 'C15', 'C16', 'C18'],\n",
    "                    outputCols=['C1_encoded', 'banner_pos_encoded', \n",
    "                                'device_type_encoded', \n",
    "                                'device_conn_type_encoded', 'C15_encoded',\n",
    "                                'C16_encoded', 'C18_encoded'])"
   ]
  },
  {
   "cell_type": "markdown",
   "metadata": {},
   "source": [
    "### Vector Assembler"
   ]
  },
  {
   "cell_type": "code",
   "execution_count": 34,
   "metadata": {},
   "outputs": [],
   "source": [
    "vec_assembler = VectorAssembler(inputCols=['C1_encoded', 'banner_pos_encoded', \n",
    "                                           'device_type_encoded', 'device_conn_type_encoded', \n",
    "                                           'C15_encoded', 'C16_encoded', 'C18_encoded'], outputCol=\"features\")"
   ]
  },
  {
   "cell_type": "markdown",
   "metadata": {},
   "source": [
    "### Pipeline"
   ]
  },
  {
   "cell_type": "code",
   "execution_count": 35,
   "metadata": {},
   "outputs": [],
   "source": [
    "# Make the pipeline\n",
    "final_pipe = Pipeline(stages=[OHE, vec_assembler])"
   ]
  },
  {
   "cell_type": "code",
   "execution_count": 36,
   "metadata": {},
   "outputs": [],
   "source": [
    "piped_data = final_pipe.fit(df_filtered).transform(df_filtered)"
   ]
  },
  {
   "cell_type": "code",
   "execution_count": 37,
   "metadata": {
    "scrolled": false
   },
   "outputs": [
    {
     "name": "stdout",
     "output_type": "stream",
     "text": [
      "+-----+----+----------+-----------+----------------+---+---+---+-------------------+------------------+-------------------+------------------------+-----------------+----------------+-------------+--------------------+\n",
      "|click|  C1|banner_pos|device_type|device_conn_type|C15|C16|C18|         C1_encoded|banner_pos_encoded|device_type_encoded|device_conn_type_encoded|      C15_encoded|     C16_encoded|  C18_encoded|            features|\n",
      "+-----+----+----------+-----------+----------------+---+---+---+-------------------+------------------+-------------------+------------------------+-----------------+----------------+-------------+--------------------+\n",
      "|    0|1005|         0|          1|               2|320| 50|  0|(1010,[1005],[1.0])|     (5,[0],[1.0])|      (5,[1],[1.0])|           (5,[2],[1.0])|(728,[320],[1.0])|(480,[50],[1.0])|(3,[0],[1.0])|(2236,[1005,1010,...|\n",
      "|    0|1005|         0|          1|               0|320| 50|  0|(1010,[1005],[1.0])|     (5,[0],[1.0])|      (5,[1],[1.0])|           (5,[0],[1.0])|(728,[320],[1.0])|(480,[50],[1.0])|(3,[0],[1.0])|(2236,[1005,1010,...|\n",
      "|    0|1005|         0|          1|               0|320| 50|  0|(1010,[1005],[1.0])|     (5,[0],[1.0])|      (5,[1],[1.0])|           (5,[0],[1.0])|(728,[320],[1.0])|(480,[50],[1.0])|(3,[0],[1.0])|(2236,[1005,1010,...|\n",
      "|    0|1005|         0|          1|               0|320| 50|  0|(1010,[1005],[1.0])|     (5,[0],[1.0])|      (5,[1],[1.0])|           (5,[0],[1.0])|(728,[320],[1.0])|(480,[50],[1.0])|(3,[0],[1.0])|(2236,[1005,1010,...|\n",
      "|    0|1005|         1|          1|               0|320| 50|  0|(1010,[1005],[1.0])|     (5,[1],[1.0])|      (5,[1],[1.0])|           (5,[0],[1.0])|(728,[320],[1.0])|(480,[50],[1.0])|(3,[0],[1.0])|(2236,[1005,1011,...|\n",
      "|    0|1005|         0|          1|               0|320| 50|  0|(1010,[1005],[1.0])|     (5,[0],[1.0])|      (5,[1],[1.0])|           (5,[0],[1.0])|(728,[320],[1.0])|(480,[50],[1.0])|(3,[0],[1.0])|(2236,[1005,1010,...|\n",
      "|    0|1005|         0|          1|               0|320| 50|  0|(1010,[1005],[1.0])|     (5,[0],[1.0])|      (5,[1],[1.0])|           (5,[0],[1.0])|(728,[320],[1.0])|(480,[50],[1.0])|(3,[0],[1.0])|(2236,[1005,1010,...|\n",
      "|    0|1005|         1|          1|               0|320| 50|  3|(1010,[1005],[1.0])|     (5,[1],[1.0])|      (5,[1],[1.0])|           (5,[0],[1.0])|(728,[320],[1.0])|(480,[50],[1.0])|    (3,[],[])|(2236,[1005,1011,...|\n",
      "|    1|1005|         0|          1|               2|320| 50|  0|(1010,[1005],[1.0])|     (5,[0],[1.0])|      (5,[1],[1.0])|           (5,[2],[1.0])|(728,[320],[1.0])|(480,[50],[1.0])|(3,[0],[1.0])|(2236,[1005,1010,...|\n",
      "|    0|1002|         0|          0|               0|320| 50|  3|(1010,[1002],[1.0])|     (5,[0],[1.0])|      (5,[0],[1.0])|           (5,[0],[1.0])|(728,[320],[1.0])|(480,[50],[1.0])|    (3,[],[])|(2236,[1002,1010,...|\n",
      "+-----+----+----------+-----------+----------------+---+---+---+-------------------+------------------+-------------------+------------------------+-----------------+----------------+-------------+--------------------+\n",
      "only showing top 10 rows\n",
      "\n"
     ]
    }
   ],
   "source": [
    "piped_data.show(10)"
   ]
  },
  {
   "cell_type": "code",
   "execution_count": 38,
   "metadata": {},
   "outputs": [
    {
     "data": {
      "text/plain": [
       "['click',\n",
       " 'C1',\n",
       " 'banner_pos',\n",
       " 'device_type',\n",
       " 'device_conn_type',\n",
       " 'C15',\n",
       " 'C16',\n",
       " 'C18',\n",
       " 'C1_encoded',\n",
       " 'banner_pos_encoded',\n",
       " 'device_type_encoded',\n",
       " 'device_conn_type_encoded',\n",
       " 'C15_encoded',\n",
       " 'C16_encoded',\n",
       " 'C18_encoded',\n",
       " 'features']"
      ]
     },
     "execution_count": 38,
     "metadata": {},
     "output_type": "execute_result"
    }
   ],
   "source": [
    "piped_data.columns"
   ]
  },
  {
   "cell_type": "code",
   "execution_count": 39,
   "metadata": {},
   "outputs": [],
   "source": [
    "piped_dataset = piped_data.withColumnRenamed(\"click\", \"label\")"
   ]
  },
  {
   "cell_type": "code",
   "execution_count": 40,
   "metadata": {},
   "outputs": [
    {
     "name": "stdout",
     "output_type": "stream",
     "text": [
      "+-----+----+----------+-----------+----------------+---+---+---+-------------------+------------------+-------------------+------------------------+-----------------+----------------+-------------+--------------------+\n",
      "|label|  C1|banner_pos|device_type|device_conn_type|C15|C16|C18|         C1_encoded|banner_pos_encoded|device_type_encoded|device_conn_type_encoded|      C15_encoded|     C16_encoded|  C18_encoded|            features|\n",
      "+-----+----+----------+-----------+----------------+---+---+---+-------------------+------------------+-------------------+------------------------+-----------------+----------------+-------------+--------------------+\n",
      "|    0|1005|         0|          1|               2|320| 50|  0|(1010,[1005],[1.0])|     (5,[0],[1.0])|      (5,[1],[1.0])|           (5,[2],[1.0])|(728,[320],[1.0])|(480,[50],[1.0])|(3,[0],[1.0])|(2236,[1005,1010,...|\n",
      "|    0|1005|         0|          1|               0|320| 50|  0|(1010,[1005],[1.0])|     (5,[0],[1.0])|      (5,[1],[1.0])|           (5,[0],[1.0])|(728,[320],[1.0])|(480,[50],[1.0])|(3,[0],[1.0])|(2236,[1005,1010,...|\n",
      "|    0|1005|         0|          1|               0|320| 50|  0|(1010,[1005],[1.0])|     (5,[0],[1.0])|      (5,[1],[1.0])|           (5,[0],[1.0])|(728,[320],[1.0])|(480,[50],[1.0])|(3,[0],[1.0])|(2236,[1005,1010,...|\n",
      "|    0|1005|         0|          1|               0|320| 50|  0|(1010,[1005],[1.0])|     (5,[0],[1.0])|      (5,[1],[1.0])|           (5,[0],[1.0])|(728,[320],[1.0])|(480,[50],[1.0])|(3,[0],[1.0])|(2236,[1005,1010,...|\n",
      "|    0|1005|         1|          1|               0|320| 50|  0|(1010,[1005],[1.0])|     (5,[1],[1.0])|      (5,[1],[1.0])|           (5,[0],[1.0])|(728,[320],[1.0])|(480,[50],[1.0])|(3,[0],[1.0])|(2236,[1005,1011,...|\n",
      "|    0|1005|         0|          1|               0|320| 50|  0|(1010,[1005],[1.0])|     (5,[0],[1.0])|      (5,[1],[1.0])|           (5,[0],[1.0])|(728,[320],[1.0])|(480,[50],[1.0])|(3,[0],[1.0])|(2236,[1005,1010,...|\n",
      "|    0|1005|         0|          1|               0|320| 50|  0|(1010,[1005],[1.0])|     (5,[0],[1.0])|      (5,[1],[1.0])|           (5,[0],[1.0])|(728,[320],[1.0])|(480,[50],[1.0])|(3,[0],[1.0])|(2236,[1005,1010,...|\n",
      "|    0|1005|         1|          1|               0|320| 50|  3|(1010,[1005],[1.0])|     (5,[1],[1.0])|      (5,[1],[1.0])|           (5,[0],[1.0])|(728,[320],[1.0])|(480,[50],[1.0])|    (3,[],[])|(2236,[1005,1011,...|\n",
      "|    1|1005|         0|          1|               2|320| 50|  0|(1010,[1005],[1.0])|     (5,[0],[1.0])|      (5,[1],[1.0])|           (5,[2],[1.0])|(728,[320],[1.0])|(480,[50],[1.0])|(3,[0],[1.0])|(2236,[1005,1010,...|\n",
      "|    0|1002|         0|          0|               0|320| 50|  3|(1010,[1002],[1.0])|     (5,[0],[1.0])|      (5,[0],[1.0])|           (5,[0],[1.0])|(728,[320],[1.0])|(480,[50],[1.0])|    (3,[],[])|(2236,[1002,1010,...|\n",
      "+-----+----+----------+-----------+----------------+---+---+---+-------------------+------------------+-------------------+------------------------+-----------------+----------------+-------------+--------------------+\n",
      "only showing top 10 rows\n",
      "\n"
     ]
    }
   ],
   "source": [
    "piped_dataset.show(10)"
   ]
  },
  {
   "cell_type": "code",
   "execution_count": 41,
   "metadata": {},
   "outputs": [],
   "source": [
    "model_data = piped_dataset.select(['label','features'])"
   ]
  },
  {
   "cell_type": "code",
   "execution_count": 42,
   "metadata": {},
   "outputs": [
    {
     "name": "stdout",
     "output_type": "stream",
     "text": [
      "+-----+--------------------+\n",
      "|label|            features|\n",
      "+-----+--------------------+\n",
      "|    0|(2236,[1005,1010,...|\n",
      "|    0|(2236,[1005,1010,...|\n",
      "|    0|(2236,[1005,1010,...|\n",
      "|    0|(2236,[1005,1010,...|\n",
      "|    0|(2236,[1005,1011,...|\n",
      "|    0|(2236,[1005,1010,...|\n",
      "|    0|(2236,[1005,1010,...|\n",
      "|    0|(2236,[1005,1011,...|\n",
      "|    1|(2236,[1005,1010,...|\n",
      "|    0|(2236,[1002,1010,...|\n",
      "+-----+--------------------+\n",
      "only showing top 10 rows\n",
      "\n"
     ]
    }
   ],
   "source": [
    "model_data.show(10)"
   ]
  },
  {
   "cell_type": "code",
   "execution_count": 43,
   "metadata": {},
   "outputs": [
    {
     "data": {
      "text/plain": [
       "[Row(label=0, features=SparseVector(2236, {1005: 1.0, 1010: 1.0, 1016: 1.0, 1022: 1.0, 1345: 1.0, 1803: 1.0, 2233: 1.0})),\n",
       " Row(label=0, features=SparseVector(2236, {1005: 1.0, 1010: 1.0, 1016: 1.0, 1020: 1.0, 1345: 1.0, 1803: 1.0, 2233: 1.0})),\n",
       " Row(label=0, features=SparseVector(2236, {1005: 1.0, 1010: 1.0, 1016: 1.0, 1020: 1.0, 1345: 1.0, 1803: 1.0, 2233: 1.0})),\n",
       " Row(label=0, features=SparseVector(2236, {1005: 1.0, 1010: 1.0, 1016: 1.0, 1020: 1.0, 1345: 1.0, 1803: 1.0, 2233: 1.0})),\n",
       " Row(label=0, features=SparseVector(2236, {1005: 1.0, 1011: 1.0, 1016: 1.0, 1020: 1.0, 1345: 1.0, 1803: 1.0, 2233: 1.0})),\n",
       " Row(label=0, features=SparseVector(2236, {1005: 1.0, 1010: 1.0, 1016: 1.0, 1020: 1.0, 1345: 1.0, 1803: 1.0, 2233: 1.0})),\n",
       " Row(label=0, features=SparseVector(2236, {1005: 1.0, 1010: 1.0, 1016: 1.0, 1020: 1.0, 1345: 1.0, 1803: 1.0, 2233: 1.0})),\n",
       " Row(label=0, features=SparseVector(2236, {1005: 1.0, 1011: 1.0, 1016: 1.0, 1020: 1.0, 1345: 1.0, 1803: 1.0})),\n",
       " Row(label=1, features=SparseVector(2236, {1005: 1.0, 1010: 1.0, 1016: 1.0, 1022: 1.0, 1345: 1.0, 1803: 1.0, 2233: 1.0})),\n",
       " Row(label=0, features=SparseVector(2236, {1002: 1.0, 1010: 1.0, 1015: 1.0, 1020: 1.0, 1345: 1.0, 1803: 1.0}))]"
      ]
     },
     "execution_count": 43,
     "metadata": {},
     "output_type": "execute_result"
    }
   ],
   "source": [
    "model_data.head(10)"
   ]
  },
  {
   "cell_type": "markdown",
   "metadata": {},
   "source": [
    "# Model Building"
   ]
  },
  {
   "cell_type": "markdown",
   "metadata": {},
   "source": [
    "### Create Train Test Data"
   ]
  },
  {
   "cell_type": "code",
   "execution_count": 44,
   "metadata": {},
   "outputs": [],
   "source": [
    "training, test = model_data.randomSplit([.7, .3])"
   ]
  },
  {
   "cell_type": "code",
   "execution_count": 45,
   "metadata": {},
   "outputs": [
    {
     "name": "stdout",
     "output_type": "stream",
     "text": [
      "+-----+--------------------+\n",
      "|label|            features|\n",
      "+-----+--------------------+\n",
      "|    0|(2236,[1001,1010,...|\n",
      "|    0|(2236,[1001,1010,...|\n",
      "|    0|(2236,[1001,1010,...|\n",
      "|    0|(2236,[1001,1010,...|\n",
      "|    0|(2236,[1001,1010,...|\n",
      "|    0|(2236,[1002,1010,...|\n",
      "|    0|(2236,[1002,1010,...|\n",
      "|    0|(2236,[1002,1010,...|\n",
      "|    0|(2236,[1002,1010,...|\n",
      "|    0|(2236,[1002,1010,...|\n",
      "+-----+--------------------+\n",
      "only showing top 10 rows\n",
      "\n"
     ]
    }
   ],
   "source": [
    "training.show(10)"
   ]
  },
  {
   "cell_type": "code",
   "execution_count": 46,
   "metadata": {},
   "outputs": [
    {
     "data": {
      "text/plain": [
       "70014"
      ]
     },
     "execution_count": 46,
     "metadata": {},
     "output_type": "execute_result"
    }
   ],
   "source": [
    "training.count()"
   ]
  },
  {
   "cell_type": "markdown",
   "metadata": {},
   "source": [
    "### Logistic Regression Model"
   ]
  },
  {
   "cell_type": "code",
   "execution_count": 47,
   "metadata": {},
   "outputs": [],
   "source": [
    "from pyspark.ml.classification import LogisticRegression"
   ]
  },
  {
   "cell_type": "code",
   "execution_count": 48,
   "metadata": {},
   "outputs": [],
   "source": [
    "lr = LogisticRegression(featuresCol='features', labelCol='label')"
   ]
  },
  {
   "cell_type": "code",
   "execution_count": 49,
   "metadata": {},
   "outputs": [
    {
     "data": {
      "text/plain": [
       "LogisticRegression_77e69769c215"
      ]
     },
     "execution_count": 49,
     "metadata": {},
     "output_type": "execute_result"
    }
   ],
   "source": [
    "lr"
   ]
  },
  {
   "cell_type": "code",
   "execution_count": 50,
   "metadata": {},
   "outputs": [
    {
     "name": "stderr",
     "output_type": "stream",
     "text": [
      "23/08/05 23:17:15 WARN InstanceBuilder: Failed to load implementation from:dev.ludovic.netlib.blas.VectorBLAS\n"
     ]
    }
   ],
   "source": [
    "model = lr.fit(training)"
   ]
  },
  {
   "cell_type": "code",
   "execution_count": 51,
   "metadata": {},
   "outputs": [
    {
     "data": {
      "text/plain": [
       "LogisticRegressionModel: uid=LogisticRegression_77e69769c215, numClasses=2, numFeatures=2236"
      ]
     },
     "execution_count": 51,
     "metadata": {},
     "output_type": "execute_result"
    }
   ],
   "source": [
    "model"
   ]
  },
  {
   "cell_type": "markdown",
   "metadata": {},
   "source": [
    "# Model Evaluation"
   ]
  },
  {
   "cell_type": "code",
   "execution_count": 52,
   "metadata": {},
   "outputs": [
    {
     "name": "stdout",
     "output_type": "stream",
     "text": [
      "Coefficients: (2236,[1001,1002,1005,1007,1008,1010,1011,1012,1014,1015,1016,1019,1020,1022,1023,1145,1241,1325,1345,1773,1789,1803,1843,2003,2233,2234,2235],[-0.12782997278246047,0.44098928672764676,0.4044463213369538,-12.529607988195554,1.8992758861839287,-0.1080023673714947,0.11017236238996546,0.2606557734210801,-13.099403107104187,0.44098928672764676,0.22250385120142435,-0.2808760970408347,0.9682701166078477,0.9141408439482374,0.5612513527913358,-6.850024243617941,-0.20243235271828786,0.17722507716484612,-0.0571910165032327,-6.850024243617941,-0.20243235271828786,-0.5156443015312082,-12.634880966867781,0.058073850657916315,0.15022786529267212,-0.6154385295035641,1.0347320400451105])\n",
      "Intercept: -2.8058082989116224\n"
     ]
    }
   ],
   "source": [
    "# Print the coefficients and intercept for logistic regression\n",
    "print(\"Coefficients: \" + str(model.coefficients))\n",
    "print(\"Intercept: \" + str(model.intercept))"
   ]
  },
  {
   "cell_type": "markdown",
   "metadata": {},
   "source": [
    "### Plot ROC"
   ]
  },
  {
   "cell_type": "code",
   "execution_count": 54,
   "metadata": {},
   "outputs": [
    {
     "name": "stderr",
     "output_type": "stream",
     "text": [
      "                                                                                \r"
     ]
    }
   ],
   "source": [
    "trainingSummary = model.summary\n",
    "roc = trainingSummary.roc.toPandas()"
   ]
  },
  {
   "cell_type": "code",
   "execution_count": 55,
   "metadata": {
    "scrolled": true
   },
   "outputs": [
    {
     "data": {
      "image/png": "[encoded data removed]",
      "text/plain": [
       "<Figure size 640x480 with 1 Axes>"
      ]
     },
     "metadata": {},
     "output_type": "display_data"
    }
   ],
   "source": [
    "\n",
    "\n",
    "import matplotlib.pyplot as plt\n",
    "\n",
    "plt.clf()\n",
    "plt.plot(roc['FPR'],roc['TPR'])\n",
    "plt.ylabel('False Positive Rate')\n",
    "plt.xlabel('True Positive Rate')\n",
    "plt.title('ROC Curve')\n",
    "plt.show()"
   ]
  },
  {
   "cell_type": "code",
   "execution_count": 56,
   "metadata": {},
   "outputs": [
    {
     "name": "stdout",
     "output_type": "stream",
     "text": [
      "Training set areaUnderROC: 0.6099487920624681\n"
     ]
    }
   ],
   "source": [
    "print('Training set areaUnderROC: ' + str(trainingSummary.areaUnderROC))"
   ]
  },
  {
   "cell_type": "markdown",
   "metadata": {},
   "source": [
    "### Precision Recall Curve"
   ]
  },
  {
   "cell_type": "code",
   "execution_count": 57,
   "metadata": {},
   "outputs": [
    {
     "data": {
      "text/plain": [
       "Text(0.5, 0, 'Recall')"
      ]
     },
     "execution_count": 57,
     "metadata": {},
     "output_type": "execute_result"
    },
    {
     "data": {
      "image/png": "[encoded data removed]",
      "text/plain": [
       "<Figure size 640x480 with 1 Axes>"
      ]
     },
     "metadata": {},
     "output_type": "display_data"
    }
   ],
   "source": [
    "plt.clf()\n",
    "pr = trainingSummary.pr.toPandas()\n",
    "plt.plot(pr['recall'],pr['precision'])\n",
    "plt.ylabel('Precision')\n",
    "plt.xlabel('Recall')\n"
   ]
  },
  {
   "cell_type": "markdown",
   "metadata": {},
   "source": [
    "### Accuracy "
   ]
  },
  {
   "cell_type": "code",
   "execution_count": 59,
   "metadata": {},
   "outputs": [],
   "source": [
    "summary = model.evaluate(test)"
   ]
  },
  {
   "cell_type": "code",
   "execution_count": 60,
   "metadata": {},
   "outputs": [
    {
     "data": {
      "text/plain": [
       "0.8248124062031016"
      ]
     },
     "execution_count": 60,
     "metadata": {},
     "output_type": "execute_result"
    }
   ],
   "source": [
    "summary.accuracy"
   ]
  },
  {
   "cell_type": "code",
   "execution_count": 61,
   "metadata": {},
   "outputs": [],
   "source": [
    "output = model.transform(test)"
   ]
  },
  {
   "cell_type": "code",
   "execution_count": 62,
   "metadata": {},
   "outputs": [
    {
     "data": {
      "text/plain": [
       "DataFrame[label: int, features: vector, rawPrediction: vector, probability: vector, prediction: double]"
      ]
     },
     "execution_count": 62,
     "metadata": {},
     "output_type": "execute_result"
    }
   ],
   "source": [
    "output"
   ]
  },
  {
   "cell_type": "markdown",
   "metadata": {},
   "source": [
    "### Probability Output"
   ]
  },
  {
   "cell_type": "code",
   "execution_count": 63,
   "metadata": {},
   "outputs": [
    {
     "name": "stdout",
     "output_type": "stream",
     "text": [
      "+-----+--------------------+--------------------+--------------------+----------+\n",
      "|label|            features|       rawPrediction|         probability|prediction|\n",
      "+-----+--------------------+--------------------+--------------------+----------+\n",
      "|    0|(2236,[1001,1010,...|[2.42370198929074...|[0.91861693399722...|       0.0|\n",
      "|    0|(2236,[1002,1010,...|[1.46842668165655...|[0.81281813160264...|       0.0|\n",
      "|    0|(2236,[1002,1010,...|[1.46842668165655...|[0.81281813160264...|       0.0|\n",
      "|    0|(2236,[1002,1010,...|[1.31819881636387...|[0.78888188041377...|       0.0|\n",
      "|    0|(2236,[1002,1010,...|[1.40198120058633...|[0.80249808696130...|       0.0|\n",
      "|    0|(2236,[1002,1010,...|[1.40198120058633...|[0.80249808696130...|       0.0|\n",
      "|    0|(2236,[1002,1010,...|[1.40198120058633...|[0.80249808696130...|       0.0|\n",
      "|    0|(2236,[1002,1010,...|[1.40198120058633...|[0.80249808696130...|       0.0|\n",
      "|    0|(2236,[1002,1010,...|[1.40198120058633...|[0.80249808696130...|       0.0|\n",
      "|    0|(2236,[1002,1010,...|[1.40198120058633...|[0.80249808696130...|       0.0|\n",
      "+-----+--------------------+--------------------+--------------------+----------+\n",
      "only showing top 10 rows\n",
      "\n"
     ]
    }
   ],
   "source": [
    "output.show(10)"
   ]
  },
  {
   "cell_type": "code",
   "execution_count": 64,
   "metadata": {},
   "outputs": [
    {
     "name": "stdout",
     "output_type": "stream",
     "text": [
      "+-----+----------+\n",
      "|label|prediction|\n",
      "+-----+----------+\n",
      "|    0|       0.0|\n",
      "|    0|       0.0|\n",
      "|    0|       0.0|\n",
      "|    0|       0.0|\n",
      "|    0|       0.0|\n",
      "|    0|       0.0|\n",
      "|    0|       0.0|\n",
      "|    0|       0.0|\n",
      "|    0|       0.0|\n",
      "|    0|       0.0|\n",
      "+-----+----------+\n",
      "only showing top 10 rows\n",
      "\n"
     ]
    }
   ],
   "source": [
    "output.select('label','prediction').show(10)"
   ]
  },
  {
   "cell_type": "markdown",
   "metadata": {},
   "source": [
    "### ROC"
   ]
  },
  {
   "cell_type": "code",
   "execution_count": 65,
   "metadata": {},
   "outputs": [],
   "source": [
    "from pyspark.ml.evaluation import BinaryClassificationEvaluator"
   ]
  },
  {
   "cell_type": "code",
   "execution_count": 66,
   "metadata": {},
   "outputs": [],
   "source": [
    "evaluator = BinaryClassificationEvaluator()"
   ]
  },
  {
   "cell_type": "code",
   "execution_count": 67,
   "metadata": {},
   "outputs": [
    {
     "name": "stdout",
     "output_type": "stream",
     "text": [
      "Test Area Under ROC 0.6048483450951326\n"
     ]
    }
   ],
   "source": [
    "print('Test Area Under ROC', evaluator.evaluate(output))"
   ]
  }
 ],
 "metadata": {
  "kernelspec": {
   "display_name": "masters",
   "language": "python",
   "name": "python3"
  },
  "language_info": {
   "codemirror_mode": {
    "name": "ipython",
    "version": 3
   },
   "file_extension": ".py",
   "mimetype": "text/x-python",
   "name": "python",
   "nbconvert_exporter": "python",
   "pygments_lexer": "ipython3",
   "version": "3.10.12"
  }
 },
 "nbformat": 4,
 "nbformat_minor": 2
}
